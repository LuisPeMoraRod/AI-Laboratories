{
  "nbformat": 4,
  "nbformat_minor": 0,
  "metadata": {
    "colab": {
      "provenance": [],
      "authorship_tag": "ABX9TyO1LXOUMNzibvQw740ikioe",
      "include_colab_link": true
    },
    "kernelspec": {
      "name": "python3",
      "display_name": "Python 3"
    },
    "language_info": {
      "name": "python"
    }
  },
  "cells": [
    {
      "cell_type": "markdown",
      "metadata": {
        "id": "view-in-github",
        "colab_type": "text"
      },
      "source": [
        "<a href=\"https://colab.research.google.com/github/LuisPeMoraRod/AI-Laboratories/blob/main/Lab6_LogisticRegression.ipynb\" target=\"_parent\"><img src=\"https://colab.research.google.com/assets/colab-badge.svg\" alt=\"Open In Colab\"/></a>"
      ]
    },
    {
      "cell_type": "markdown",
      "source": [
        "### Ejercicio 1"
      ],
      "metadata": {
        "id": "yl_zwQIx9rAW"
      }
    },
    {
      "cell_type": "code",
      "execution_count": null,
      "metadata": {
        "id": "QhrwRnaW9hzm"
      },
      "outputs": [],
      "source": []
    },
    {
      "cell_type": "markdown",
      "source": [
        "### Ejercicio 2"
      ],
      "metadata": {
        "id": "U288wAe39y51"
      }
    },
    {
      "cell_type": "code",
      "source": [],
      "metadata": {
        "id": "67FjLAG993ll"
      },
      "execution_count": null,
      "outputs": []
    },
    {
      "cell_type": "markdown",
      "source": [
        "### Ejercicio 3"
      ],
      "metadata": {
        "id": "xajJjL20951R"
      }
    },
    {
      "cell_type": "code",
      "source": [],
      "metadata": {
        "id": "Gs2o5gvq98oV"
      },
      "execution_count": null,
      "outputs": []
    },
    {
      "cell_type": "markdown",
      "source": [
        "### Ejercicio 4"
      ],
      "metadata": {
        "id": "UZB961lJ99g1"
      }
    },
    {
      "cell_type": "code",
      "source": [],
      "metadata": {
        "id": "SJib_J9G9_Fh"
      },
      "execution_count": null,
      "outputs": []
    }
  ]
}