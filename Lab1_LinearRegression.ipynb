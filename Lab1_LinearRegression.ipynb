{
  "nbformat": 4,
  "nbformat_minor": 0,
  "metadata": {
    "colab": {
      "provenance": [],
      "toc_visible": true,
      "collapsed_sections": [
        "znkKHtnwQ_FK",
        "1rFVwQF06YDG"
      ],
      "include_colab_link": true
    },
    "kernelspec": {
      "name": "python3",
      "display_name": "Python 3"
    },
    "language_info": {
      "name": "python"
    }
  },
  "cells": [
    {
      "cell_type": "markdown",
      "metadata": {
        "id": "view-in-github",
        "colab_type": "text"
      },
      "source": [
        "<a href=\"https://colab.research.google.com/github/LuisPeMoraRod/IA-Laboratories/blob/main/Lab1_LinearRegression.ipynb\" target=\"_parent\"><img src=\"https://colab.research.google.com/assets/colab-badge.svg\" alt=\"Open In Colab\"/></a>"
      ]
    },
    {
      "cell_type": "markdown",
      "source": [
        "### Ejercicio 1"
      ],
      "metadata": {
        "id": "znkKHtnwQ_FK"
      }
    },
    {
      "cell_type": "code",
      "execution_count": 24,
      "metadata": {
        "id": "EXosLmSNNtzi"
      },
      "outputs": [],
      "source": [
        "# import libraries\n",
        "from sklearn.datasets import make_regression\n",
        "import matplotlib.pyplot as plt #for plotting\n",
        "import torch\n",
        "import numpy as np\n",
        "import gc\n",
        "import math"
      ]
    },
    {
      "cell_type": "code",
      "source": [
        "heights = [1.25,1.28,1.27,1.21,1.22,1.29,1.3,1.24,1.27,1.29,1.25,1.28,1.27,1.21,1.22,1.29,1.3,1.24,1.27,1.29,1.25,1.28,1.27,1.21,1.22,1.29,1.3,1.24,1.27,1.29]\n",
        "weights = [32,33,34,30,32,35,34,32,32,35,33,35,34,30,33,34,35,32,33,33,33,34,34,31,32,34,34,31,35,34]\n",
        "x_data = torch.tensor(heights, dtype=torch.float64)\n",
        "y_data = torch.tensor(weights, dtype=torch.float64)"
      ],
      "metadata": {
        "id": "3hLd6ygK9z80"
      },
      "execution_count": 19,
      "outputs": []
    },
    {
      "cell_type": "markdown",
      "source": [
        "#### Opcional"
      ],
      "metadata": {
        "id": "1rFVwQF06YDG"
      }
    },
    {
      "cell_type": "code",
      "source": [
        "N_SAMPLES = 100000 #number of samples\n",
        "N_FEATURES = 1 #number of features\n",
        "N_INFORMATIVE = 1 #number of useful features\n",
        "NOISE = 10 #bias and standard deviation of the guassian noise\n",
        "x, y, coef = make_regression(n_samples=N_SAMPLES,\n",
        "                            n_features=N_FEATURES,\n",
        "                            n_informative=N_INFORMATIVE, \n",
        "                            noise=NOISE,\n",
        "                            coef=True, # return the coefficients of the underlying linear model\n",
        "                            random_state=0) #set for same data points for each run\n",
        "\n",
        "# Scale feature x (students' height) to range [1.20, 1.40]\n",
        "x = np.interp(x, (x.min(), x.max()), (1.20, 1.40))\n",
        "x_data = torch.tensor(x)\n",
        "\n",
        "# Scale target y (students' weight) to range [25,40] \n",
        "y = np.interp(y, (y.min(), y.max()), (25, 40))\n",
        "y_data = torch.tensor(y)\n"
      ],
      "metadata": {
        "id": "Y2SshxyqzW0U"
      },
      "execution_count": null,
      "outputs": []
    },
    {
      "cell_type": "code",
      "source": [
        "# Plotting data\n",
        "plt.ion() #interactive plot on\n",
        "plt.plot(x,y,'.',label='training data')\n",
        "plt.xlabel('Height');plt.ylabel('Weight')\n",
        "plt.title('Height Vs. Weight')"
      ],
      "metadata": {
        "colab": {
          "base_uri": "https://localhost:8080/",
          "height": 312
        },
        "id": "cS3386u14SeM",
        "outputId": "5e3c3570-3bea-43ae-de84-09fd763aa6f7"
      },
      "execution_count": null,
      "outputs": [
        {
          "output_type": "execute_result",
          "data": {
            "text/plain": [
              "Text(0.5, 1.0, 'Height Vs. Weight')"
            ]
          },
          "metadata": {},
          "execution_count": 26
        },
        {
          "output_type": "display_data",
          "data": {
            "text/plain": [
              "<Figure size 432x288 with 1 Axes>"
            ],
            "image/png": "[encoded data removed]"
          },
          "metadata": {
            "needs_background": "light"
          }
        }
      ]
    },
    {
      "cell_type": "markdown",
      "source": [
        "### Ejercicio 2"
      ],
      "metadata": {
        "id": "obfDDQ-_2BMk"
      }
    },
    {
      "cell_type": "code",
      "source": [
        "def linearRegression (array_X,array_Y):\n",
        "  #x and y average\n",
        "  x_avg = torch.mean(array_X)\n",
        "  y_avg = torch.mean(array_Y)\n",
        "\n",
        "  #data needed to calculate b and a\n",
        "  xi_xm = torch.add(array_X, -(x_avg))\n",
        "  yi_ym = torch.add(array_Y, -(y_avg))\n",
        "\n",
        "  num = torch.mul(xi_xm,yi_ym)\n",
        "  den = torch.pow(xi_xm,2)\n",
        "\n",
        "  num_sum = torch.sum(num)\n",
        "  den_sum = torch.sum(den)\n",
        "\n",
        "  #Linear regression y = a + bx\n",
        "  #b calculation\n",
        "  b = num_sum / den_sum\n",
        "  #a calculation\n",
        "  a = y_avg - (b*x_avg)\n",
        "  \n",
        "  return (a,b)\n",
        "\n",
        "print(linearRegression(x_data, y_data))"
      ],
      "metadata": {
        "id": "GCP-Mm6K2GaV",
        "colab": {
          "base_uri": "https://localhost:8080/"
        },
        "outputId": "eff53c3a-e7fc-44d4-d5df-01de43101ea3"
      },
      "execution_count": null,
      "outputs": [
        {
          "output_type": "stream",
          "name": "stdout",
          "text": [
            "100000\n"
          ]
        }
      ]
    },
    {
      "cell_type": "markdown",
      "source": [
        "### Ejercicio 3"
      ],
      "metadata": {
        "id": "h_GEeB5w_I4r"
      }
    },
    {
      "cell_type": "markdown",
      "source": [
        "\n",
        "\n",
        "#### a. Explicación del cálculo y la fórmula\n",
        "\n",
        "El **coeficiente de Pearson** o coeficiente de correlación lineal es una medida estadística usada para determinar la relación entre dos variables estudiadas.\n",
        "\n",
        "Para calcular el coeficiente de correlación de Pearson entre dos variables, se debe *dividir la covarianza de dichas variables por la raíz cuadrada del producto de sus varianzas*; es decir:\n",
        "\n",
        "\\\\\n",
        "\\begin{align}\n",
        "\\rho = \\frac{cov(x,y)}{\\sqrt{var(x) \\cdot var(y)}},\n",
        "\\end{align}\n",
        "\n",
        "\\\\\n",
        "\n",
        "donde, las funciones de covarianza **cov** y varianza **var** se definen como:\n",
        "\n",
        "\\begin{align}\n",
        "  cov(x,y)=\\frac{\\sum\\limits_{i=1}^{n} (x_i - \\bar{x})(y_i - \\bar{y})}{n-1}\\\\\n",
        "\\end{align}\n",
        "\n",
        "\\begin{align}\n",
        "  var(x)=\\frac{\\sum\\limits_{i=1}^{n} (x_i - \\bar{x})^2}{n-1}\\\\\n",
        "\\end{align}\n",
        "\n",
        "\\begin{align}\n",
        "  var(y)=\\frac{\\sum\\limits_{i=1}^{n} (y_i - \\bar{y})^2}{n-1}\\\\\n",
        "\\end{align}\n",
        "\n",
        "\\\\\n",
        "El valor del coeficiente de correlación de Pearson está entre $-1$ y $1$, ambos incluidos. \n",
        "\n",
        "\n",
        "\n",
        "\n",
        "\n",
        "\n",
        "\n",
        "\n",
        "\n",
        "\n",
        "\n"
      ],
      "metadata": {
        "id": "Sd2Uc_mc_NBe"
      }
    },
    {
      "cell_type": "markdown",
      "source": [
        "#### b. Desarrollo del cálculo para el set de datos"
      ],
      "metadata": {
        "id": "fdPre6K-7M8K"
      }
    },
    {
      "cell_type": "code",
      "source": [
        "def getPearsonCoeff(x : torch.Tensor, y: torch.Tensor):\n",
        "  variables = torch.tensor([x.tolist(), y.tolist()])\n",
        "  covariance_matrix = torch.cov(variables)\n",
        "  covariance = covariance_matrix[0][1]\n",
        "  variance_x = covariance_matrix[0][0]\n",
        "  variance_y = covariance_matrix[1][1]\n",
        "  rho = covariance / math.sqrt(variance_x*variance_y)\n",
        "  return rho\n",
        "\n",
        "print(getPearsonCoeff(x_data, y_data))"
      ],
      "metadata": {
        "id": "7kIVN6hw7bU9",
        "outputId": "c04d38a7-6284-426d-83f0-ef734f3faadf",
        "colab": {
          "base_uri": "https://localhost:8080/"
        }
      },
      "execution_count": 27,
      "outputs": [
        {
          "output_type": "stream",
          "name": "stdout",
          "text": [
            "tensor(0.8282)\n"
          ]
        }
      ]
    }
  ]
}