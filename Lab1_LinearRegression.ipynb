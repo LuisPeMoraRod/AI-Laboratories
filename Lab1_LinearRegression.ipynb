{
  "nbformat": 4,
  "nbformat_minor": 0,
  "metadata": {
    "colab": {
      "provenance": [],
      "toc_visible": true,
      "collapsed_sections": [
        "znkKHtnwQ_FK",
        "1rFVwQF06YDG"
      ],
      "include_colab_link": true
    },
    "kernelspec": {
      "name": "python3",
      "display_name": "Python 3"
    },
    "language_info": {
      "name": "python"
    }
  },
  "cells": [
    {
      "cell_type": "markdown",
      "metadata": {
        "id": "view-in-github",
        "colab_type": "text"
      },
      "source": [
        "<a href=\"https://colab.research.google.com/github/LuisPeMoraRod/IA-Laboratories/blob/main/Lab1_LinearRegression.ipynb\" target=\"_parent\"><img src=\"https://colab.research.google.com/assets/colab-badge.svg\" alt=\"Open In Colab\"/></a>"
      ]
    },
    {
      "cell_type": "markdown",
      "source": [
        "### Ejercicio 1"
      ],
      "metadata": {
        "id": "znkKHtnwQ_FK"
      }
    },
    {
      "cell_type": "code",
      "execution_count": 1,
      "metadata": {
        "id": "EXosLmSNNtzi"
      },
      "outputs": [],
      "source": [
        "# import libraries\n",
        "from sklearn.datasets import make_regression\n",
        "import matplotlib.pyplot as plt #for plotting\n",
        "import torch\n",
        "import numpy as np\n",
        "import gc\n",
        "import math"
      ]
    },
    {
      "cell_type": "code",
      "source": [
        "x = [1.25,1.28,1.27,1.21,1.22,1.29,1.3,1.24,1.27,1.29,1.25,1.28,1.27,1.21,1.22,1.29,1.3,1.24,1.27,1.29,1.25,1.28,1.27,1.21,1.22,1.29,1.3,1.24,1.27,1.29] #heights\n",
        "y = [32,33,34,30,32,35,34,32,32,35,33,35,34,30,33,34,35,32,33,33,33,34,34,31,32,34,34,31,35,34] #weights\n",
        "x_data = torch.tensor(x, dtype=torch.float64)\n",
        "y_data = torch.tensor(y, dtype=torch.float64)"
      ],
      "metadata": {
        "id": "3hLd6ygK9z80"
      },
      "execution_count": 2,
      "outputs": []
    },
    {
      "cell_type": "markdown",
      "source": [
        "#### Opcional"
      ],
      "metadata": {
        "id": "1rFVwQF06YDG"
      }
    },
    {
      "cell_type": "code",
      "source": [
        "N_SAMPLES = 100000 #number of samples\n",
        "N_FEATURES = 1 #number of features\n",
        "N_INFORMATIVE = 1 #number of useful features\n",
        "NOISE = 10 #bias and standard deviation of the guassian noise\n",
        "x, y, coef = make_regression(n_samples=N_SAMPLES,\n",
        "                            n_features=N_FEATURES,\n",
        "                            n_informative=N_INFORMATIVE, \n",
        "                            noise=NOISE,\n",
        "                            coef=True, # return the coefficients of the underlying linear model\n",
        "                            random_state=0) #set for same data points for each run\n",
        "\n",
        "# Scale feature x (students' height) to range [1.20, 1.40]\n",
        "x = np.interp(x, (x.min(), x.max()), (1.20, 1.40))\n",
        "x_t = np.transpose(x)[0]\n",
        "x_data = torch.tensor(x_t, dtype=torch.float64)\n",
        "\n",
        "# Scale target y (students' weight) to range [25,40] \n",
        "y = np.interp(y, (y.min(), y.max()), (25, 40))\n",
        "y_data = torch.tensor(y, dtype=torch.float64)\n"
      ],
      "metadata": {
        "id": "Y2SshxyqzW0U"
      },
      "execution_count": 18,
      "outputs": []
    },
    {
      "cell_type": "code",
      "source": [
        "# Plotting data\n",
        "plt.ion() #interactive plot on\n",
        "plt.plot(x,y,'.',label='training data')\n",
        "plt.xlabel('Height');plt.ylabel('Weight')\n",
        "plt.title('Weight vs Height')"
      ],
      "metadata": {
        "colab": {
          "base_uri": "https://localhost:8080/",
          "height": 312
        },
        "id": "cS3386u14SeM",
        "outputId": "7ffb99a5-241e-4e10-ccd4-a75cd38550f6"
      },
      "execution_count": 13,
      "outputs": [
        {
          "output_type": "execute_result",
          "data": {
            "text/plain": [
              "Text(0.5, 1.0, 'Weight vs Height')"
            ]
          },
          "metadata": {},
          "execution_count": 13
        },
        {
          "output_type": "display_data",
          "data": {
            "text/plain": [
              "<Figure size 432x288 with 1 Axes>"
            ],
            "image/png": "[encoded data removed]"
          },
          "metadata": {
            "needs_background": "light"
          }
        }
      ]
    },
    {
      "cell_type": "markdown",
      "source": [
        "### Ejercicio 2"
      ],
      "metadata": {
        "id": "obfDDQ-_2BMk"
      }
    },
    {
      "cell_type": "code",
      "source": [
        "import os\n",
        " \n",
        "def getRAM():\n",
        "  # Getting all memory using os.popen()\n",
        "  total_memory, used_memory, free_memory = map(\n",
        "      int, os.popen('free -t -m').readlines()[-1].split()[1:])\n",
        "  # Memory usage\n",
        "  print(\"RAM memory % used:\", round((used_memory/total_memory) * 100, 2))"
      ],
      "metadata": {
        "id": "Eu2Y1TzgnzQz"
      },
      "execution_count": 5,
      "outputs": []
    },
    {
      "cell_type": "code",
      "source": [
        "#multiplies every i entry of the first tensor with the i entry of the second tensor\n",
        "def multTensors(x: torch.Tensor, y: torch.Tensor) -> torch.Tensor:\n",
        "  result = []\n",
        "  for i in range(0, x.size()[0]):\n",
        "    result.append(x[i]*y[i])\n",
        "  return torch.tensor(result)\n",
        "\n",
        "def linearRegression (array_X,array_Y):\n",
        "  getRAM()\n",
        "  \n",
        "  #x and y average\n",
        "  x_avg = torch.mean(array_X)\n",
        "  y_avg = torch.mean(array_Y)\n",
        "\n",
        "  #data needed to calculate b and a\n",
        "  xi_xm = torch.add(array_X, -(x_avg))\n",
        "  yi_ym = torch.add(array_Y, -(y_avg))\n",
        "\n",
        "  num = torch.mul(xi_xm,yi_ym)\n",
        "  # num = multTensors(xi_xm, yi_ym)\n",
        "  den = torch.pow(xi_xm,2)\n",
        "\n",
        "  num_sum = torch.sum(num)\n",
        "  den_sum = torch.sum(den)\n",
        "\n",
        "  #Linear regression y = a + bx\n",
        "  #b calculation\n",
        "  b = num_sum / den_sum\n",
        "  #a calculation\n",
        "  a = y_avg - (b*x_avg)\n",
        "  \n",
        "  return (a,b)\n",
        "\n",
        "print(linearRegression(x_data, y_data))"
      ],
      "metadata": {
        "id": "GCP-Mm6K2GaV",
        "colab": {
          "base_uri": "https://localhost:8080/"
        },
        "outputId": "f0563e06-0b97-4532-fcb1-51a2190048a0"
      },
      "execution_count": 19,
      "outputs": [
        {
          "output_type": "stream",
          "name": "stdout",
          "text": [
            "RAM memory % used: 9.84\n",
            "(tensor(-65.2809, dtype=torch.float64), tensor(75.1142, dtype=torch.float64))\n",
            "tensor([34.1849, 31.4623, 32.6545,  ..., 32.5608, 34.9858, 33.6121],\n",
            "       dtype=torch.float64)\n"
          ]
        }
      ]
    },
    {
      "cell_type": "markdown",
      "source": [
        "### Ejercicio 3"
      ],
      "metadata": {
        "id": "h_GEeB5w_I4r"
      }
    },
    {
      "cell_type": "markdown",
      "source": [
        "\n",
        "\n",
        "#### a. Explicación del cálculo y la fórmula\n",
        "\n",
        "El **coeficiente de Pearson** o coeficiente de correlación lineal es una medida estadística usada para determinar la relación entre dos variables estudiadas.\n",
        "\n",
        "Para calcular el coeficiente de correlación de Pearson entre dos variables, se debe *dividir la covarianza de dichas variables por la raíz cuadrada del producto de sus varianzas*; es decir:\n",
        "\n",
        "\\\\\n",
        "\\begin{align}\n",
        "\\rho = \\frac{cov(x,y)}{\\sqrt{var(x) \\cdot var(y)}},\n",
        "\\end{align}\n",
        "\n",
        "\\\\\n",
        "\n",
        "donde, las funciones de covarianza **cov** y varianza **var** se definen como:\n",
        "\n",
        "\\begin{align}\n",
        "  cov(x,y)=\\frac{\\sum\\limits_{i=1}^{n} (x_i - \\bar{x})(y_i - \\bar{y})}{n-1}\\\\\n",
        "\\end{align}\n",
        "\n",
        "\\begin{align}\n",
        "  var(x)=\\frac{\\sum\\limits_{i=1}^{n} (x_i - \\bar{x})^2}{n-1}\\\\\n",
        "\\end{align}\n",
        "\n",
        "\\begin{align}\n",
        "  var(y)=\\frac{\\sum\\limits_{i=1}^{n} (y_i - \\bar{y})^2}{n-1}\\\\\n",
        "\\end{align}\n",
        "\n",
        "\\\\\n",
        "El coeficiente de correlación de Pearson trata de cuantificar la dependencia lineal entre dos variables aleatorias cuantitativas. Valorar numéricamente la correlación entre dos variables es complicado porque resulta difícil determinar qué pareja de variables está más correlacionada entre sí, así pues, el objetivo de coeficiente de correlación de Pearson es dar un valor a la relación entre variables para luego poder comparar entre ellas.\n",
        "\n",
        "\n",
        "\n",
        "\n",
        "\n",
        "\n",
        "\n",
        "\n",
        "\n",
        "\n",
        "\n"
      ],
      "metadata": {
        "id": "Sd2Uc_mc_NBe"
      }
    },
    {
      "cell_type": "markdown",
      "source": [
        "#### b. Desarrollo del cálculo para el set de datos"
      ],
      "metadata": {
        "id": "fdPre6K-7M8K"
      }
    },
    {
      "cell_type": "code",
      "source": [
        "def getPearsonCoeff(x : torch.Tensor, y: torch.Tensor) -> float:\n",
        "  variables = torch.tensor([x.tolist(), y.tolist()])\n",
        "  covariance_matrix = torch.cov(variables)\n",
        "  covariance = covariance_matrix[0][1]\n",
        "  variance_x = covariance_matrix[0][0]\n",
        "  variance_y = covariance_matrix[1][1]\n",
        "  rho = covariance / math.sqrt(variance_x*variance_y)\n",
        "  return rho.tolist()\n",
        "\n",
        "print(getPearsonCoeff(x_data, y_data))"
      ],
      "metadata": {
        "colab": {
          "base_uri": "https://localhost:8080/"
        },
        "id": "7kIVN6hw7bU9",
        "outputId": "922e1ed3-6e31-4103-b602-585004078a46"
      },
      "execution_count": 20,
      "outputs": [
        {
          "output_type": "stream",
          "name": "stdout",
          "text": [
            "tensor([1.3287, 1.2918, 1.3016,  ..., 1.3029, 1.3380, 1.3173],\n",
            "       dtype=torch.float64)\n",
            "tensor([34.1849, 31.4623, 32.6545,  ..., 32.5608, 34.9858, 33.6121],\n",
            "       dtype=torch.float64)\n",
            "0.9920570254325867\n"
          ]
        }
      ]
    },
    {
      "cell_type": "markdown",
      "source": [
        "#### c. Comprobación de linealidad\n",
        "\n",
        "Se sabe que el valor del coeficiente de Pearson estará siempre dentro del rango $[-1,1]$. Dependiendo del valor que tenga el coeficiente, este se puede interpretar de diferentes formas:\n",
        "\n",
        "\n",
        "1.   $\\rho = -1$ : las dos variables tienen una correlación negativa perfecta. Es decir, se puede trazar una recta con pendiente negativa que toque todos los puntos.\n",
        "\n",
        "2.   $-1<\\rho<0$: la correlación entre las dos variables es negativa, por lo tanto, cuando una variable aumenta, la otra disminuye. Cuanto más cerca esté del valor de -1, mayor es la relación negativa entre las variables.\n",
        "\n",
        "3. $\\rho=0$: la relación lineal entre las variables es nula. Esto no quiere decir que las variables sean independientes, ya que pueden tener una relación no lineal entre ellas.\n",
        "\n",
        "4. $0<\\rho<1$: la correlación entre las dos variables es positiva, por lo que una variable tiene a aumentar su valor cuando la otra también se incremente. Cuando más cerca esté el valor de 1, mayor será la relación entre ellas.\n",
        "\n",
        "5. $\\rho = -1$ : las dos variables tienen una correlación positiva perfecta, es decir, tienen una relación lineal positiva.\n",
        "\n",
        "\\\\\n",
        "De esta forma, para el caso del set de datos de la presentación vista en clase, el coeficiente de correlación lineal es aproximadamente de $0,8282$. Este valor es cercano a 1, lo que indica que la correlación entre las variables de estatura y el peso de los estudiantes es positiva. Por lo tanto, la tendencia es que si la variable de estatura aumenta, la del peso también lo hará.\n",
        "\n",
        "\n"
      ],
      "metadata": {
        "id": "6x_1W9CYfSoK"
      }
    }
  ]
}