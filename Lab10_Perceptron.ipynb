{
  "nbformat": 4,
  "nbformat_minor": 0,
  "metadata": {
    "colab": {
      "provenance": [],
      "toc_visible": true,
      "include_colab_link": true
    },
    "kernelspec": {
      "name": "python3",
      "display_name": "Python 3"
    },
    "language_info": {
      "name": "python"
    }
  },
  "cells": [
    {
      "cell_type": "markdown",
      "metadata": {
        "id": "view-in-github",
        "colab_type": "text"
      },
      "source": [
        "<a href=\"https://colab.research.google.com/github/LuisPeMoraRod/AI-Laboratories/blob/main/Lab10_Perceptron.ipynb\" target=\"_parent\"><img src=\"https://colab.research.google.com/assets/colab-badge.svg\" alt=\"Open In Colab\"/></a>"
      ]
    },
    {
      "cell_type": "markdown",
      "source": [
        "### Ejercicio 1\n",
        "Programe el algoritmo del perceptrón genérico que reciba cualquier set de datos"
      ],
      "metadata": {
        "id": "Gv7gIwPmG_OI"
      }
    },
    {
      "cell_type": "code",
      "execution_count": 47,
      "metadata": {
        "id": "-Bk9e7-3Go0C"
      },
      "outputs": [],
      "source": [
        "# import libraries\n",
        "import numpy as np\n",
        "import pandas as pd\n",
        "import matplotlib.pyplot as plt\n",
        "from sklearn.model_selection import train_test_split\n",
        "from sklearn import datasets\n",
        "from sklearn.metrics import accuracy_score\n"
      ]
    },
    {
      "cell_type": "code",
      "source": [
        "class Perceptron:\n",
        "    def __init__(self, learning_rate=0.01, iters_max=1000):\n",
        "        self.lr = learning_rate\n",
        "        self.iters_max = iters_max\n",
        "        self.activation_func = self.activation_func\n",
        "        self.weights = None\n",
        "        self.bias = None\n",
        "\n",
        "    def fit(self, X, y):\n",
        "        n_samples, n_features = X.shape\n",
        "\n",
        "        # init parameters\n",
        "        self.weights = np.zeros(n_features)\n",
        "        self.bias = 0\n",
        "\n",
        "        for _ in range(self.iters_max):\n",
        "\n",
        "          for i, x_i in enumerate(X):\n",
        "\n",
        "              linear_output = np.dot(x_i, self.weights) + self.bias\n",
        "              y_predicted = self.activation_func(linear_output)\n",
        "\n",
        "              error = y[i] - y_predicted\n",
        "              if (abs(error) > 0):\n",
        "                update = self.lr * error\n",
        "\n",
        "                self.weights += update * x_i\n",
        "                self.bias += update\n",
        "\n",
        "          y_predict = self.predict(X)\n",
        "          e = np.subtract(y, y_predict)\n",
        "          #stop trainning when error is zero for all observations\n",
        "          if (np.sum(e) == 0):\n",
        "            break\n",
        "    \n",
        "    def predict(self, X):\n",
        "        linear_output = np.dot(X, self.weights) + self.bias\n",
        "        y_predicted = self.activation_func(linear_output)\n",
        "        return y_predicted\n",
        "\n",
        "    def activation_func(self, x):\n",
        "        return np.where(x >= 0, 1, 0)"
      ],
      "metadata": {
        "id": "nVlJl8AK4fh1"
      },
      "execution_count": 48,
      "outputs": []
    },
    {
      "cell_type": "markdown",
      "source": [
        "### Ejercicio 2\n",
        "Ejecute el programa con un set de datos de al menos 1000 observaciones y 3 características."
      ],
      "metadata": {
        "id": "VTvqBaQ7NABC"
      }
    },
    {
      "cell_type": "code",
      "source": [
        "OBSERVATIONS = 1000\n",
        "X, y = datasets.make_blobs(n_samples=OBSERVATIONS, n_features=3, centers=2, cluster_std=1.05, random_state=2)\n",
        "X_train, X_test, y_train, y_test = train_test_split(X, y, test_size=0.2, random_state=123)\n",
        "\n",
        "p = Perceptron(learning_rate=0.01, iters_max=1000)\n",
        "p.fit(X_train, y_train)\n",
        "y_pred = p.predict(X_test)\n",
        "\n",
        "print(\"Perceptron classification accuracy\", accuracy_score(y_test, y_pred))"
      ],
      "metadata": {
        "colab": {
          "base_uri": "https://localhost:8080/"
        },
        "id": "TZZ7te2WmKw9",
        "outputId": "b218d3c8-9215-4f04-bcd9-45cc5544180c"
      },
      "execution_count": 52,
      "outputs": [
        {
          "output_type": "stream",
          "name": "stdout",
          "text": [
            "Perceptron classification accuracy 1.0\n"
          ]
        }
      ]
    }
  ]
}