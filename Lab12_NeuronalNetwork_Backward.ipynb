{
  "nbformat": 4,
  "nbformat_minor": 0,
  "metadata": {
    "colab": {
      "provenance": [],
      "include_colab_link": true
    },
    "kernelspec": {
      "name": "python3",
      "display_name": "Python 3"
    },
    "language_info": {
      "name": "python"
    }
  },
  "cells": [
    {
      "cell_type": "markdown",
      "metadata": {
        "id": "view-in-github",
        "colab_type": "text"
      },
      "source": [
        "<a href=\"https://colab.research.google.com/github/LuisPeMoraRod/AI-Laboratories/blob/main/Lab12_NeuronalNetwork_Backward.ipynb\" target=\"_parent\"><img src=\"https://colab.research.google.com/assets/colab-badge.svg\" alt=\"Open In Colab\"/></a>"
      ]
    },
    {
      "cell_type": "code",
      "metadata": {
        "id": "HqiC083T_6nm",
        "outputId": "5352844a-7f97-41ff-9437-713678b8c25d",
        "colab": {
          "base_uri": "https://localhost:8080/"
        }
      },
      "source": [
        "#Autora: Adriana Álvarez F. \n",
        "# Since Collab is being used, it is necessary to install Pytorch\n",
        "!pip install torch\n",
        "import torch as torch\n",
        "\n",
        "import numpy as np\n",
        "from matplotlib import pyplot as plt\n",
        "from mpl_toolkits.mplot3d import Axes3D\n",
        "from matplotlib import cm\n"
      ],
      "execution_count": 1,
      "outputs": [
        {
          "output_type": "stream",
          "name": "stdout",
          "text": [
            "Looking in indexes: https://pypi.org/simple, https://us-python.pkg.dev/colab-wheels/public/simple/\n",
            "Requirement already satisfied: torch in /usr/local/lib/python3.10/dist-packages (2.0.1+cu118)\n",
            "Requirement already satisfied: filelock in /usr/local/lib/python3.10/dist-packages (from torch) (3.12.0)\n",
            "Requirement already satisfied: typing-extensions in /usr/local/lib/python3.10/dist-packages (from torch) (4.5.0)\n",
            "Requirement already satisfied: sympy in /usr/local/lib/python3.10/dist-packages (from torch) (1.11.1)\n",
            "Requirement already satisfied: networkx in /usr/local/lib/python3.10/dist-packages (from torch) (3.1)\n",
            "Requirement already satisfied: jinja2 in /usr/local/lib/python3.10/dist-packages (from torch) (3.1.2)\n",
            "Requirement already satisfied: triton==2.0.0 in /usr/local/lib/python3.10/dist-packages (from torch) (2.0.0)\n",
            "Requirement already satisfied: cmake in /usr/local/lib/python3.10/dist-packages (from triton==2.0.0->torch) (3.25.2)\n",
            "Requirement already satisfied: lit in /usr/local/lib/python3.10/dist-packages (from triton==2.0.0->torch) (16.0.5)\n",
            "Requirement already satisfied: MarkupSafe>=2.0 in /usr/local/lib/python3.10/dist-packages (from jinja2->torch) (2.1.2)\n",
            "Requirement already satisfied: mpmath>=0.19 in /usr/local/lib/python3.10/dist-packages (from sympy->torch) (1.3.0)\n"
          ]
        }
      ]
    },
    {
      "cell_type": "code",
      "metadata": {
        "id": "FSQf-LLRzfeX"
      },
      "source": [
        "def sigmoidalActivationFunction(x):\n",
        "  return (1/(1+(torch.exp(-x))))\n"
      ],
      "execution_count": null,
      "outputs": []
    },
    {
      "cell_type": "code",
      "metadata": {
        "id": "04zLU2g2AKYG"
      },
      "source": [
        "def forward(weights,featuresT):\n",
        "  result=weights.mm(featuresT)\n",
        "  return sigmoidalActivationFunction(result)\n"
      ],
      "execution_count": null,
      "outputs": []
    },
    {
      "cell_type": "code",
      "metadata": {
        "id": "vJ1qALlIgncZ"
      },
      "source": [
        "def countRows(matrix):\n",
        "  return matrix.size()[0]"
      ],
      "execution_count": null,
      "outputs": []
    },
    {
      "cell_type": "code",
      "metadata": {
        "id": "85zqlgBBg0Tn"
      },
      "source": [
        "def countColumns(matrix):\n",
        "  return matrix.size()[1]"
      ],
      "execution_count": null,
      "outputs": []
    },
    {
      "cell_type": "code",
      "metadata": {
        "id": "q5Geli2fcm9V"
      },
      "source": [
        "# Crea una matriz de tamano countHiddenLayer (rows) x countFeatures (columns) \n",
        "def randomWeights(rows, colums):\n",
        "  return (torch.rand(rows, colums))\n"
      ],
      "execution_count": null,
      "outputs": []
    },
    {
      "cell_type": "code",
      "metadata": {
        "colab": {
          "base_uri": "https://localhost:8080/"
        },
        "id": "k1q_D3CoBAoK",
        "outputId": "d4792695-108b-4030-8a26-270727778c11"
      },
      "source": [
        "x = torch.tensor([[0.05, 0.01], [0.02, 0.5], [2,4]])\n",
        "rows=countRows(x) # corresponde a la cantidad de observaciones del dataset, es decir, a la cantidad de observaciones\n",
        "columns=countColumns(x) #corresponde a la cantidad de features del dataset\n",
        "countNeuronsHiddenLayer1=1\n",
        "weights=randomWeights(countNeuronsHiddenLayer1, columns)\n",
        "#print(weights)\n",
        "featuresT=x.transpose(0,1)\n",
        "#print(featuresT)\n",
        "r = forward(weights,featuresT)\n",
        "print(r)\n"
      ],
      "execution_count": null,
      "outputs": [
        {
          "output_type": "stream",
          "text": [
            "tensor([[0.5052, 0.5868, 0.9649]])\n"
          ],
          "name": "stdout"
        }
      ]
    }
  ]
}