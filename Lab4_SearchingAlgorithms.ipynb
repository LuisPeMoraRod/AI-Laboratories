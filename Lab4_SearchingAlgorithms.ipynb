{
  "nbformat": 4,
  "nbformat_minor": 0,
  "metadata": {
    "colab": {
      "provenance": [],
      "authorship_tag": "ABX9TyOVc/43UCw/ebQaqr90yIpb",
      "include_colab_link": true
    },
    "kernelspec": {
      "name": "python3",
      "display_name": "Python 3"
    },
    "language_info": {
      "name": "python"
    }
  },
  "cells": [
    {
      "cell_type": "markdown",
      "metadata": {
        "id": "view-in-github",
        "colab_type": "text"
      },
      "source": [
        "<a href=\"https://colab.research.google.com/github/LuisPeMoraRod/IA-Laboratories/blob/main/Lab4_SearchingAlgorithms.ipynb\" target=\"_parent\"><img src=\"https://colab.research.google.com/assets/colab-badge.svg\" alt=\"Open In Colab\"/></a>"
      ]
    },
    {
      "cell_type": "markdown",
      "source": [
        "### Ejercicio 1.b\n"
      ],
      "metadata": {
        "id": "eyvs-I0WIKPH"
      }
    },
    {
      "cell_type": "code",
      "source": [
        "ASCII_CODE_OFFSET = 97 #ascii code for 'a'\n",
        "\n",
        "# matrix representation for the map: 1 means a reachable point, 0 means it's a wall\n",
        "map_info = [[0,1,1,1,0,1,1,1,0,1],\n",
        "            [0,0,1,0,0,1,0,0,0,1],\n",
        "            [0,1,1,1,1,1,1,1,1,1],\n",
        "            [0,0,0,0,0,1,0,0,0,0],\n",
        "            [1,1,1,0,1,1,1,1,1,1],\n",
        "            [1,0,0,0,1,0,0,0,1,0],\n",
        "            [1,1,1,1,1,0,1,0,1,1],\n",
        "            [0,0,0,0,1,0,1,0,1,0],\n",
        "            [1,1,1,1,1,1,1,0,1,1]]\n",
        "\n",
        "class MapNode:\n",
        "  \"\"\"\n",
        "  This class represents a node in the map's graph.\n",
        "  \"\"\"\n",
        "  #adjacent nodes\n",
        "  top_adj = None \n",
        "  bottom_adj = None\n",
        "  right_adj = None\n",
        "  left_adj = None\n",
        "\n",
        "  def __init__(self, x_pos : chr, y_pos: int, type_code: int):\n",
        "    self.is_hall = self.set_is_hall(type_code) # node type (hall or wall)\n",
        "    self.x_pos = x_pos\n",
        "    self.y_pos = y_pos\n",
        "\n",
        "  def set_is_hall(self, code : int) -> bool:\n",
        "    return bool(code)\n",
        "  \n",
        "  # def set_x_pos(self, x_pos: chr) -> int: \n",
        "  #   unicode = ord(x_pos.lower()) # unicode of lowercased letter \n",
        "  #   return unicode - ASCII_CODE_OFFSET # index starting at 0\n",
        "\n",
        "  # def set_y_pos(self, y_pos : int) -> int:\n",
        "  #   return y_pos - 1 #index starting at 0\n",
        "\n",
        "\n",
        "class MapGraph:\n",
        "  \"\"\"\n",
        "  This class handles the map graph's methods and attributes\n",
        "  \"\"\"\n",
        "\n",
        "  def __init__(self, map_array : list):\n",
        "    self.columns = len(map_array[0])\n",
        "    self.rows = len(map_array)\n",
        "    self.nodes_dict = self.set_nodes_dict(map_array) # dictionary to easily reference every node'\n",
        "    self.set_arcs()\n",
        "\n",
        "  def set_nodes_dict(self, map_array : list):\n",
        "    \"\"\"\n",
        "    Creates all nodes and adds them to a dictionary for easy access\n",
        "    \"\"\"\n",
        "    nodes_dict = {}\n",
        "    for i in range(len(map_array)):\n",
        "      for j in range(len(map_array[0])):\n",
        "        new_node = MapNode(i,j,map_array[i][j])\n",
        "        dict_key = j + i * self.columns\n",
        "        nodes_dict[dict_key] = new_node\n",
        "    return nodes_dict\n",
        "\n",
        "  def set_arcs(self):\n",
        "    \"Set the arcs of every node in the graph\"\n",
        "    for i in range(self.rows):\n",
        "      for j in range(self.columns):\n",
        "        node = self.get_node(i,j)\n",
        "        if (i > 0):\n",
        "          top_adj = self.get_node(i-1, j)\n",
        "          node.top_adj = top_adj\n",
        "        if (i < self.rows - 1):\n",
        "          bottom_adj = self.get_node(i+1,j)\n",
        "          node.bottom_adj = bottom_adj\n",
        "        if (j > 0):\n",
        "          left_adj = self.get_node(i, j-1)\n",
        "          node.left_adj = left_adj\n",
        "        if (j < self.columns - 1):\n",
        "          right_adj = self.get_node(i, j+1)\n",
        "          node.right_adj = right_adj\n",
        "\n",
        "\n",
        "  def get_node(self,i,j):\n",
        "    key = j + i * self.columns\n",
        "    return self.nodes_dict[key]\n",
        "\n",
        "\n",
        "\n",
        "graph = MapGraph(map_info)\n",
        "\n",
        "print(graph.get_node(8,8).right_adj.is_hall)\n",
        "print(graph.get_node(8,8).left_adj.is_hall)\n"
      ],
      "metadata": {
        "id": "-4ezGfC7IOBV",
        "outputId": "064c2344-9f61-4849-9104-6da23558ce23",
        "colab": {
          "base_uri": "https://localhost:8080/"
        }
      },
      "execution_count": 44,
      "outputs": [
        {
          "output_type": "stream",
          "name": "stdout",
          "text": [
            "True\n",
            "False\n"
          ]
        }
      ]
    }
  ]
}