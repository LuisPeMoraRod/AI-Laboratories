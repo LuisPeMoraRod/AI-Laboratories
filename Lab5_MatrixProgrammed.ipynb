{
  "nbformat": 4,
  "nbformat_minor": 0,
  "metadata": {
    "colab": {
      "provenance": [],
      "include_colab_link": true
    },
    "kernelspec": {
      "name": "python3",
      "display_name": "Python 3"
    },
    "language_info": {
      "name": "python"
    }
  },
  "cells": [
    {
      "cell_type": "markdown",
      "metadata": {
        "id": "view-in-github",
        "colab_type": "text"
      },
      "source": [
        "<a href=\"https://colab.research.google.com/github/LuisPeMoraRod/AI-Laboratories/blob/main/Lab5_MatrixProgrammed.ipynb\" target=\"_parent\"><img src=\"https://colab.research.google.com/assets/colab-badge.svg\" alt=\"Open In Colab\"/></a>"
      ]
    },
    {
      "cell_type": "code",
      "source": [
        "\n",
        "# import libraries\n",
        "import torch\n"
      ],
      "metadata": {
        "id": "PUcJx40opIh2"
      },
      "execution_count": 1,
      "outputs": []
    },
    {
      "cell_type": "markdown",
      "source": [
        "### Ejercicio 1\n",
        "Implemente la función *calcularTrazaMatriz*, la cual calcula la traza de una matriz usando únicamente operaciones básicas en Pytorch (multiplicación, multiplicación por elemento, matriz identidad, etc), prescindiendo de estructuras de repetición como el for el while. (10 pts) \n"
      ],
      "metadata": {
        "id": "KRCCKy0FpBPg"
      }
    },
    {
      "cell_type": "code",
      "source": [],
      "metadata": {
        "id": "FTPcHiYUtSbZ"
      },
      "execution_count": null,
      "outputs": []
    },
    {
      "cell_type": "markdown",
      "source": [
        "### Ejercicio 2\n",
        "Desarrolle la tranpuesta de una matriz. (10 pts)"
      ],
      "metadata": {
        "id": "Hdg2RtAssFX0"
      }
    },
    {
      "cell_type": "code",
      "source": [
        "import numpy as np\n",
        "\n",
        "\n",
        "# Método que permite obtener la matriz transpuesta.\n",
        "\n",
        "\n",
        "def transpose_matrix(matrix):\n",
        "\n",
        "    # Obtener el numero de filas y columnas de la matriz\n",
        "    num_rows = len(matrix)\n",
        "    num_cols = len(matrix[0])\n",
        "\n",
        "    # Creamos una matriz de ceros invertida\n",
        "    transpose = [[0 for j in range(num_rows)] for i in range(num_cols)]\n",
        "\n",
        "    # iteramos cada elemento de la matriz junto con la creada\n",
        "    for i in range(num_rows):\n",
        "        for j in range(num_cols):\n",
        "            # Agregamos los datos correspondientes a la matriz tranpuesta\n",
        "            transpose[j][i] = matrix[i][j]\n",
        "\n",
        "    return transpose\n",
        "\n",
        "# Método que permite imprimir las matrices.\n",
        "\n",
        "def printMatrix(matrix):\n",
        "  for row in matrix:\n",
        "    print(row)\n",
        "\n",
        "\n",
        "matriz = [[1, 2, 3], [4, 5, 6], [7, 8, 9]]\n",
        "\n",
        "print(\"------------ Método programado ----------------\")\n",
        "print(\"Matriz Original\")\n",
        "printMatrix(matriz)\n",
        "transpose = transpose_matrix(matriz)\n",
        "print(\"Matriz Transpuesta\")\n",
        "printMatrix(transpose)\n",
        "\n",
        "print(\"------------ Con librería ----------------\")\n",
        "\n",
        "print(\"Matriz Transpuesta\")\n",
        "\n",
        "npmatriz = np.array(matriz).transpose()\n",
        "printMatrix(npmatriz)"
      ],
      "metadata": {
        "id": "2_zHP5eRseU8",
        "outputId": "04beb6df-922a-4488-9094-0bd95e08587e",
        "colab": {
          "base_uri": "https://localhost:8080/"
        }
      },
      "execution_count": null,
      "outputs": [
        {
          "output_type": "stream",
          "name": "stdout",
          "text": [
            "------------ Método programado ----------------\n",
            "Matriz Original\n",
            "[1, 2, 3]\n",
            "[4, 5, 6]\n",
            "[7, 8, 9]\n",
            "Matriz Transpuesta\n",
            "[1, 4, 7]\n",
            "[2, 5, 8]\n",
            "[3, 6, 9]\n",
            "------------ Con librería ----------------\n",
            "Matriz Transpuesta\n",
            "[1 4 7]\n",
            "[2 5 8]\n",
            "[3 6 9]\n"
          ]
        }
      ]
    },
    {
      "cell_type": "markdown",
      "source": [
        "### Ejercicio 3\n",
        "Desarrolle la matriz adjunta de una matriz (10 pts)"
      ],
      "metadata": {
        "id": "bf2IbKx5sQtg"
      }
    },
    {
      "cell_type": "code",
      "source": [
        "def get_minor(M : torch.Tensor, i : int, j : int):\n",
        "    M = torch.cat((M[:i],M[i+1:])) # delete row i\n",
        "    M = torch.transpose(M, 0, 1)#transpose matrix to tranform columns into rows\n",
        "    M = torch.cat((M[:j], M[j+1:]))\n",
        "    M = torch.transpose(M, 0, 1)\n",
        "    return M\n",
        "\n",
        "def get_cofactor(element) -> int:\n",
        "  global i,j,M\n",
        "  minor = get_minor(M, i, j)\n",
        "  determinant = torch.det(minor)\n",
        "  print(M)\n",
        "  print(f'{element}\\t{determinant}')\n",
        "  result = (-1)**(i+j)*determinant\n",
        "  if (j + 1 == len(M[0])):\n",
        "    i+=1\n",
        "    j = 0\n",
        "  else:\n",
        "    j+=1\n",
        "  return result\n",
        "\n",
        "def get_cofactor_matrix(M: torch.Tensor) -> torch.Tensor:\n",
        "  return M.apply_(get_cofactor)\n",
        "\n",
        "def get_adj_matrix(M: torch.Tensor) -> torch.Tensor:\n",
        "  cofactor_matrix = get_cofactor_matrix(M)\n",
        "  return torch.transpose(cofactor_matrix, 0, 1)\n",
        "\n",
        "i = 0\n",
        "j = 0\n",
        "M = [[7, 5, 3], [2, 3, 6], [6, 10, 9]]\n",
        "M = torch.tensor(M, dtype=torch.float64)\n",
        "m = get_minor(M, 1, 0)\n",
        "print(M)\n",
        "#print(m)\n",
        "#print(torch.det(m))\n",
        "print(get_adj_matrix(M))\n"
      ],
      "metadata": {
        "id": "j5cA46tasoR5",
        "outputId": "1142ecd4-9158-48f2-ce3a-9fd85cff498f",
        "colab": {
          "base_uri": "https://localhost:8080/"
        }
      },
      "execution_count": 61,
      "outputs": [
        {
          "output_type": "stream",
          "name": "stdout",
          "text": [
            "tensor([[ 7.,  5.,  3.],\n",
            "        [ 2.,  3.,  6.],\n",
            "        [ 6., 10.,  9.]], dtype=torch.float64)\n",
            "tensor([[ 7.,  5.,  3.],\n",
            "        [ 2.,  3.,  6.],\n",
            "        [ 6., 10.,  9.]], dtype=torch.float64)\n",
            "7.0\t-33.0\n",
            "tensor([[-33.,   5.,   3.],\n",
            "        [  2.,   3.,   6.],\n",
            "        [  6.,  10.,   9.]], dtype=torch.float64)\n",
            "5.0\t-18.0\n",
            "tensor([[-33.,  18.,   3.],\n",
            "        [  2.,   3.,   6.],\n",
            "        [  6.,  10.,   9.]], dtype=torch.float64)\n",
            "3.0\t1.9999999999999982\n",
            "tensor([[-33.0000,  18.0000,   2.0000],\n",
            "        [  2.0000,   3.0000,   6.0000],\n",
            "        [  6.0000,  10.0000,   9.0000]], dtype=torch.float64)\n",
            "2.0\t142.0\n",
            "tensor([[ -33.0000,   18.0000,    2.0000],\n",
            "        [-142.0000,    3.0000,    6.0000],\n",
            "        [   6.0000,   10.0000,    9.0000]], dtype=torch.float64)\n",
            "3.0\t-309.0\n",
            "tensor([[ -33.0000,   18.0000,    2.0000],\n",
            "        [-142.0000, -309.0000,    6.0000],\n",
            "        [   6.0000,   10.0000,    9.0000]], dtype=torch.float64)\n",
            "6.0\t-438.0\n",
            "tensor([[ -33.0000,   18.0000,    2.0000],\n",
            "        [-142.0000, -309.0000,  438.0000],\n",
            "        [   6.0000,   10.0000,    9.0000]], dtype=torch.float64)\n",
            "6.0\t8502.0\n",
            "tensor([[-3.3000e+01,  1.8000e+01,  2.0000e+00],\n",
            "        [-1.4200e+02, -3.0900e+02,  4.3800e+02],\n",
            "        [ 8.5020e+03,  1.0000e+01,  9.0000e+00]], dtype=torch.float64)\n",
            "10.0\t-14170.0\n",
            "tensor([[-3.3000e+01,  1.8000e+01,  2.0000e+00],\n",
            "        [-1.4200e+02, -3.0900e+02,  4.3800e+02],\n",
            "        [ 8.5020e+03,  1.4170e+04,  9.0000e+00]], dtype=torch.float64)\n",
            "9.0\t12752.999999999998\n",
            "tensor([[-3.3000e+01, -1.4200e+02,  8.5020e+03],\n",
            "        [ 1.8000e+01, -3.0900e+02,  1.4170e+04],\n",
            "        [ 2.0000e+00,  4.3800e+02,  1.2753e+04]], dtype=torch.float64)\n"
          ]
        }
      ]
    },
    {
      "cell_type": "markdown",
      "source": [
        "### Ejercicio 4\n",
        "Desarrolle la inversa de una matriz. Debe validar si es invertible o no. (20 pts)"
      ],
      "metadata": {
        "id": "p0iclzWcsgYC"
      }
    },
    {
      "cell_type": "markdown",
      "source": [],
      "metadata": {
        "id": "t1Su2beswjFC"
      }
    },
    {
      "cell_type": "code",
      "source": [
        "import numpy as np\n",
        "\n",
        "def inverse_matrix(matrix):\n",
        " return [[2, -2, 2], [2, 1, 0], [3, -2, 2]]\n",
        "\n",
        "matriz = [[2, -2, 2], [2, 1, 0], [3, -2, 2]]\n",
        "\n",
        "print(\"------------ Método programado ----------------\")\n",
        "print(\"Matriz Original\")\n",
        "printMatrix(matriz)\n",
        "inverse = inverse_matrix(matriz)\n",
        "print(\"Matriz Inversa\")\n",
        "printMatrix(inverse)\n",
        "\n",
        "print(\"------------ Con librería ----------------\")\n",
        "\n",
        "print(\"Matriz Inversa\")\n",
        "\n",
        "npmatriz = np.array(matriz)\n",
        "\n",
        "npmatriz_inv = np.linalg.inv(npmatriz)\n",
        "\n",
        "printMatrix(npmatriz_inv)"
      ],
      "metadata": {
        "id": "W52SXuvasfHi",
        "outputId": "9c268bc7-bef3-4c1c-cad1-a9dd0470633e",
        "colab": {
          "base_uri": "https://localhost:8080/"
        }
      },
      "execution_count": null,
      "outputs": [
        {
          "output_type": "stream",
          "name": "stdout",
          "text": [
            "------------ Método programado ----------------\n",
            "Matriz Original\n",
            "[2, -2, 2]\n",
            "[2, 1, 0]\n",
            "[3, -2, 2]\n",
            "Matriz Inversa\n",
            "[2, -2, 2]\n",
            "[2, 1, 0]\n",
            "[3, -2, 2]\n",
            "------------ Con librería ----------------\n",
            "Matriz Inversa\n",
            "[-1.00000000e+00  1.48029737e-16  1.00000000e+00]\n",
            "[ 2.  1. -2.]\n",
            "[ 3.5  1.  -3. ]\n"
          ]
        }
      ]
    },
    {
      "cell_type": "markdown",
      "source": [
        "### Ejercicio 5\n",
        "La Matriz de covarianza. (50 pts) "
      ],
      "metadata": {
        "id": "CUbmZ95csqiP"
      }
    },
    {
      "cell_type": "code",
      "source": [],
      "metadata": {
        "id": "aZZmcOGQtH6D"
      },
      "execution_count": null,
      "outputs": []
    }
  ]
}