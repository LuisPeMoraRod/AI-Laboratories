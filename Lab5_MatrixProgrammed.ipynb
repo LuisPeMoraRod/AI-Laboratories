{
  "nbformat": 4,
  "nbformat_minor": 0,
  "metadata": {
    "colab": {
      "provenance": [],
      "include_colab_link": true
    },
    "kernelspec": {
      "name": "python3",
      "display_name": "Python 3"
    },
    "language_info": {
      "name": "python"
    }
  },
  "cells": [
    {
      "cell_type": "markdown",
      "metadata": {
        "id": "view-in-github",
        "colab_type": "text"
      },
      "source": [
        "<a href=\"https://colab.research.google.com/github/LuisPeMoraRod/AI-Laboratories/blob/main/Lab5_MatrixProgrammed.ipynb\" target=\"_parent\"><img src=\"https://colab.research.google.com/assets/colab-badge.svg\" alt=\"Open In Colab\"/></a>"
      ]
    },
    {
      "cell_type": "code",
      "source": [
        "\n",
        "# import libraries\n",
        "import torch\n"
      ],
      "metadata": {
        "id": "PUcJx40opIh2"
      },
      "execution_count": 136,
      "outputs": []
    },
    {
      "cell_type": "markdown",
      "source": [
        "### Ejercicio 1\n",
        "Implemente la función *calcularTrazaMatriz*, la cual calcula la traza de una matriz usando únicamente operaciones básicas en Pytorch (multiplicación, multiplicación por elemento, matriz identidad, etc), prescindiendo de estructuras de repetición como el for el while. (10 pts) \n"
      ],
      "metadata": {
        "id": "KRCCKy0FpBPg"
      }
    },
    {
      "cell_type": "markdown",
      "source": [
        "Sea una matriz cuadrada *A* de orden *n*, se define la traza de la matriz A,denotada por **tr(A)** como el valor obtenido al sumar todos los elementos de la diagonal principal.\n",
        "Es decir:\n",
        "\n",
        "\\begin{equation}\n",
        "  tr(A) = \\sum_{i=1}^{n} a_{ii}\n",
        "\\end{equation}\n",
        "\n",
        "Considerando el siguiente ejemplo:\n",
        "\\begin{pmatrix}\n",
        "     1 & 5 & 2 \\\\ \n",
        "     0 & 1 & 2 \\\\\n",
        "     3 & 1 & 0\n",
        "    \\end{pmatrix}\n",
        "\n",
        "Se tiene que:\n",
        "\n",
        "\\begin{equation}\n",
        "  tr(A) = 1 + 1 + 0 = 2\n",
        "\\end{equation}"
      ],
      "metadata": {
        "id": "E1NbVX6pSVvV"
      }
    },
    {
      "cell_type": "code",
      "source": [
        "def get_trace(M: torch.Tensor) -> int:\n",
        "  diag = torch.diag(M, 0)\n",
        "  return int(torch.sum(diag))\n",
        "\n",
        "mat = [[1, 5, 2], [0, 1, 2], [3, 1, 0]]\n",
        "mat = torch.tensor(mat, dtype=torch.float64)\n",
        "print(get_trace(mat))\n"
      ],
      "metadata": {
        "id": "FTPcHiYUtSbZ",
        "colab": {
          "base_uri": "https://localhost:8080/"
        },
        "outputId": "e3e70c87-7f18-4cd9-b454-5d2104b34d49"
      },
      "execution_count": 137,
      "outputs": [
        {
          "output_type": "stream",
          "name": "stdout",
          "text": [
            "2\n"
          ]
        }
      ]
    },
    {
      "cell_type": "markdown",
      "source": [
        "### Ejercicio 2\n",
        "Desarrolle la tranpuesta de una matriz. (10 pts)"
      ],
      "metadata": {
        "id": "Hdg2RtAssFX0"
      }
    },
    {
      "cell_type": "code",
      "source": [
        "def transpuesta(mat):\n",
        "\n",
        "    # Utilizamos la función view() para intercambiar las dimensiones del tensor\n",
        "    transpuesta_mat = mat.permute(1, 0)\n",
        "    \n",
        "    return transpuesta_mat\n",
        "\n",
        "\n",
        "# Creamos una matriz de ejemplo\n",
        "matriz = torch.tensor([[1, 2, 3], [4, 5, 6],[7, 8, 9]])\n",
        "\n",
        "\n",
        "transpuesta_mat = transpuesta(matriz)\n",
        "\n",
        "\n",
        "print(\"------------ Resultados ----------------\")\n",
        "print(\"Matriz Original\")\n",
        "print(matriz)\n",
        "print(\"Matriz Transpuesta\")\n",
        "print(transpuesta_mat)"
      ],
      "metadata": {
        "id": "2_zHP5eRseU8",
        "outputId": "9395b2ce-173e-456d-93ca-9d574f793a99",
        "colab": {
          "base_uri": "https://localhost:8080/"
        }
      },
      "execution_count": 138,
      "outputs": [
        {
          "output_type": "stream",
          "name": "stdout",
          "text": [
            "------------ Resultados ----------------\n",
            "Matriz Original\n",
            "tensor([[1, 2, 3],\n",
            "        [4, 5, 6],\n",
            "        [7, 8, 9]])\n",
            "Matriz Transpuesta\n",
            "tensor([[1, 4, 7],\n",
            "        [2, 5, 8],\n",
            "        [3, 6, 9]])\n"
          ]
        }
      ]
    },
    {
      "cell_type": "markdown",
      "source": [
        "### Ejercicio 3\n",
        "Desarrolle la matriz adjunta de una matriz (10 pts)"
      ],
      "metadata": {
        "id": "bf2IbKx5sQtg"
      }
    },
    {
      "cell_type": "code",
      "source": [
        "class Adj:\n",
        "  # auxiliar variables used to loop through the Tensor\n",
        "  i = 0\n",
        "  j = 0\n",
        "  def __init__(self, M: torch.Tensor):\n",
        "    self.M = M\n",
        "    self.rows = len(M)\n",
        "    self.col = len(M[0])\n",
        "    self.ones = torch.ones(self.rows, self.col)\n",
        "    self.adj = self.get_adj_matrix()\n",
        "\n",
        "  def __str__(self):\n",
        "    return str(self.adj)\n",
        "\n",
        "  def get_minor(self, i : int, j : int):\n",
        "      \"\"\"\n",
        "      Return the minor matrix in relation to indexes i and j\n",
        "      \"\"\"\n",
        "      M = torch.cat((self.M[:i],self.M[i+1:])) # delete row i\n",
        "      M = torch.transpose(M, 0, 1)\n",
        "      M = torch.cat((M[:j], M[j+1:])) # delete column j\n",
        "      M = torch.transpose(M, 0, 1)\n",
        "      return M\n",
        "\n",
        "  def get_cofactor(self, element) -> int:\n",
        "    \"\"\"\n",
        "    Returns the cofactor for a specific element in the matrix\n",
        "    \"\"\"\n",
        "    minor = self.get_minor(self.i, self.j)\n",
        "    determinant = torch.det(minor)\n",
        "    result = (-element)**(self.i+self.j)*determinant #computes cofactor\n",
        "\n",
        "    #update indexes\n",
        "    if (self.j + 1 == len(self.M[0])):\n",
        "      self.i+=1\n",
        "      self.j = 0\n",
        "    else:\n",
        "      self.j+=1\n",
        "\n",
        "    return result\n",
        "\n",
        "  def get_cofactors_matrix(self) -> torch.Tensor:\n",
        "    return self.ones.apply_(self.get_cofactor) #applies get_factor method to every element in ones matrix\n",
        "\n",
        "  def get_adj_matrix(self) -> torch.Tensor:\n",
        "    cofactor_matrix = self.get_cofactors_matrix()\n",
        "    return torch.transpose(cofactor_matrix, 0, 1)\n",
        "\n",
        "M = [[7, 5, 3, 4], [2, 3, 6, 4], [6, 10, 9, 4], [1, 2, 3, 4]]\n",
        "M = torch.tensor(M, dtype=torch.float64)\n",
        "print(f'Original matrix:\\n{M}')\n",
        "adj_matrix = Adj(M)\n",
        "print(f'\\n\\nAdjugate matrix:\\n{adj_matrix}')"
      ],
      "metadata": {
        "id": "j5cA46tasoR5",
        "outputId": "40c5718a-fba6-4e3d-d7ee-8706795683ef",
        "colab": {
          "base_uri": "https://localhost:8080/"
        }
      },
      "execution_count": 139,
      "outputs": [
        {
          "output_type": "stream",
          "name": "stdout",
          "text": [
            "Original matrix:\n",
            "tensor([[ 7.,  5.,  3.,  4.],\n",
            "        [ 2.,  3.,  6.,  4.],\n",
            "        [ 6., 10.,  9.,  4.],\n",
            "        [ 1.,  2.,  3.,  4.]], dtype=torch.float64)\n",
            "\n",
            "\n",
            "Adjugate matrix:\n",
            "tensor([[ -72.,  -72.,   36.,  108.],\n",
            "        [  36.,  144.,  -72., -108.],\n",
            "        [  12., -132.,   12.,  108.],\n",
            "        [  -9.,   45.,   18., -135.]])\n"
          ]
        }
      ]
    },
    {
      "cell_type": "markdown",
      "source": [
        "### Ejercicio 4\n",
        "Desarrolle la inversa de una matriz. Debe validar si es invertible o no. (20 pts)"
      ],
      "metadata": {
        "id": "p0iclzWcsgYC"
      }
    },
    {
      "cell_type": "markdown",
      "source": [],
      "metadata": {
        "id": "t1Su2beswjFC"
      }
    },
    {
      "cell_type": "code",
      "source": [
        "\n",
        "# Metodo para determinar la inversa de una matriz\n",
        "\n",
        "def matriz_inversa(matrix):\n",
        "  \n",
        "  # Cálculo del determinante\n",
        "  determinante = torch.det(matrix)\n",
        "\n",
        "  # Verificación de si tiene inversa\n",
        "  if  determinante == 0:\n",
        "    return \"La matriz no tiene inversa\"\n",
        "\n",
        "  # Cálculo de la inversa usando la fórmula general\n",
        "  m_transpuesta = transpuesta(matrix)\n",
        "  m_adj = Adj(m_transpuesta)\n",
        "  m_inversa = m_adj.adj/determinante\n",
        "\n",
        "  return m_inversa\n",
        "\n",
        "matriz = torch.tensor([[2, -2, 2], [2, 1, 0],[3, -2, 2]])\n",
        "matriz_tensor = torch.tensor(matriz, dtype=torch.float64)\n",
        "mat_inversa = matriz_inversa(matriz_tensor)\n",
        "print(\"------------ Método programado ----------------\")\n",
        "print(\"Matriz Original\")\n",
        "print(matriz)\n",
        "print(\"Matriz Inversa\")\n",
        "print(mat_inversa)"
      ],
      "metadata": {
        "id": "W52SXuvasfHi",
        "outputId": "71fd1692-01e7-4a92-8db8-1955734265cd",
        "colab": {
          "base_uri": "https://localhost:8080/"
        }
      },
      "execution_count": 143,
      "outputs": [
        {
          "output_type": "stream",
          "name": "stdout",
          "text": [
            "------------ Método programado ----------------\n",
            "Matriz Original\n",
            "tensor([[ 2, -2,  2],\n",
            "        [ 2,  1,  0],\n",
            "        [ 3, -2,  2]])\n",
            "Matriz Inversa\n",
            "tensor([[-1.0000,  2.0000,  3.5000],\n",
            "        [-0.0000,  1.0000,  1.0000],\n",
            "        [ 1.0000, -2.0000, -3.0000]])\n"
          ]
        },
        {
          "output_type": "stream",
          "name": "stderr",
          "text": [
            "<ipython-input-143-2bdc5f84b2ed>:20: UserWarning: To copy construct from a tensor, it is recommended to use sourceTensor.clone().detach() or sourceTensor.clone().detach().requires_grad_(True), rather than torch.tensor(sourceTensor).\n",
            "  matriz_tensor = torch.tensor(matriz, dtype=torch.float64)\n"
          ]
        }
      ]
    },
    {
      "cell_type": "markdown",
      "source": [
        "### Ejercicio 5\n",
        "La Matriz de covarianza. (50 pts) "
      ],
      "metadata": {
        "id": "CUbmZ95csqiP"
      }
    },
    {
      "cell_type": "code",
      "source": [
        "class CovMat:\n",
        "  # auxiliar variables used to loop through the Tensor\n",
        "\n",
        "  def __init__(self, M: torch.Tensor):\n",
        "    self.rows = len(M)\n",
        "    self.cols = len(M[0])\n",
        "    self.ones = torch.ones(self.rows, self.cols)\n",
        "    self.M = M\n",
        "    self.means_mat = self.get_means_matrix() #matrix that contains the mean of every variable\n",
        "    self.cov_mat = self.get_covariances_matrix()\n",
        "\n",
        "  def __str__(self):\n",
        "    return str(self.cov_mat)\n",
        "\n",
        "  def get_means_matrix(self):\n",
        "    means_mat = torch.mean(M, dim=1)\n",
        "    return means_mat.reshape(-1,1) #returns transpose\n",
        "\n",
        "  def get_covariances_matrix(self):\n",
        "    matrix = self.M\n",
        "\n",
        "    ones = torch.ones(self.rows, self.cols)\n",
        "    means = self.means_mat * ones # matrix of dimension nxm where every row corresponds to the mean of that variable\n",
        "\n",
        "    #apply formula\n",
        "    mat_minus_u = matrix - means\n",
        "    t_mat_minus_u = torch.transpose(mat_minus_u, 0, 1) #tranponse to multiply with mirrored elements\n",
        "    cov_mat = torch.matmul(mat_minus_u, t_mat_minus_u)\n",
        "    cov_mat = cov_mat * 1/(self.cols-1)\n",
        "\n",
        "    return cov_mat\n",
        "  \n",
        "\n",
        "\n",
        "M = [[2, 4, 6, 8], [4, 8, 12, 16], [12, 10, 5, 9]]\n",
        "M = torch.tensor(M, dtype=torch.float64)\n",
        "\n",
        "cov_mat = CovMat(M)\n",
        "print(cov_mat)\n",
        "  "
      ],
      "metadata": {
        "id": "aZZmcOGQtH6D",
        "colab": {
          "base_uri": "https://localhost:8080/"
        },
        "outputId": "f236eb48-b9e1-4c2a-c5f9-f4e5ea76a17e"
      },
      "execution_count": 141,
      "outputs": [
        {
          "output_type": "stream",
          "name": "stdout",
          "text": [
            "tensor([[ 6.6667, 13.3333, -4.6667],\n",
            "        [13.3333, 26.6667, -9.3333],\n",
            "        [-4.6667, -9.3333,  8.6667]], dtype=torch.float64)\n"
          ]
        }
      ]
    }
  ]
}