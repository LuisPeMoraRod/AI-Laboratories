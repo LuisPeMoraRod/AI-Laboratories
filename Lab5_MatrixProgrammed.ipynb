{
  "nbformat": 4,
  "nbformat_minor": 0,
  "metadata": {
    "colab": {
      "provenance": [],
      "include_colab_link": true
    },
    "kernelspec": {
      "name": "python3",
      "display_name": "Python 3"
    },
    "language_info": {
      "name": "python"
    }
  },
  "cells": [
    {
      "cell_type": "markdown",
      "metadata": {
        "id": "view-in-github",
        "colab_type": "text"
      },
      "source": [
        "<a href=\"https://colab.research.google.com/github/LuisPeMoraRod/AI-Laboratories/blob/main/Lab5_MatrixProgrammed.ipynb\" target=\"_parent\"><img src=\"https://colab.research.google.com/assets/colab-badge.svg\" alt=\"Open In Colab\"/></a>"
      ]
    },
    {
      "cell_type": "code",
      "source": [
        "\n",
        "# import libraries\n",
        "import torch\n"
      ],
      "metadata": {
        "id": "PUcJx40opIh2"
      },
      "execution_count": null,
      "outputs": []
    },
    {
      "cell_type": "markdown",
      "source": [
        "### Ejercicio 1\n",
        "Implemente la función *calcularTrazaMatriz*, la cual calcula la traza de una matriz usando únicamente operaciones básicas en Pytorch (multiplicación, multiplicación por elemento, matriz identidad, etc), prescindiendo de estructuras de repetición como el for el while. (10 pts) \n"
      ],
      "metadata": {
        "id": "KRCCKy0FpBPg"
      }
    },
    {
      "cell_type": "code",
      "source": [],
      "metadata": {
        "id": "FTPcHiYUtSbZ"
      },
      "execution_count": null,
      "outputs": []
    },
    {
      "cell_type": "markdown",
      "source": [
        "### Ejercicio 2\n",
        "Desarrolle la tranpuesta de una matriz. (10 pts)"
      ],
      "metadata": {
        "id": "Hdg2RtAssFX0"
      }
    },
    {
      "cell_type": "code",
      "source": [
        "import numpy as np\n",
        "\n",
        "\n",
        "# Método que permite obtener la matriz transpuesta.\n",
        "\n",
        "\n",
        "def transpose_matrix(matrix):\n",
        "\n",
        "    # Obtener el numero de filas y columnas de la matriz\n",
        "    num_rows = len(matrix)\n",
        "    num_cols = len(matrix[0])\n",
        "\n",
        "    # Creamos una matriz de ceros invertida\n",
        "    transpose = [[0 for j in range(num_rows)] for i in range(num_cols)]\n",
        "\n",
        "    # iteramos cada elemento de la matriz junto con la creada\n",
        "    for i in range(num_rows):\n",
        "        for j in range(num_cols):\n",
        "            # Agregamos los datos correspondientes a la matriz tranpuesta\n",
        "            transpose[j][i] = matrix[i][j]\n",
        "\n",
        "    return transpose\n",
        "\n",
        "# Método que permite imprimir las matrices.\n",
        "\n",
        "def printMatrix(matrix):\n",
        "  for row in matrix:\n",
        "    print(row)\n",
        "\n",
        "\n",
        "matriz = [[1, 2, 3], [4, 5, 6], [7, 8, 9]]\n",
        "\n",
        "print(\"------------ Método programado ----------------\")\n",
        "print(\"Matriz Original\")\n",
        "printMatrix(matriz)\n",
        "transpose = transpose_matrix(matriz)\n",
        "print(\"Matriz Transpuesta\")\n",
        "printMatrix(transpose)\n",
        "\n",
        "print(\"------------ Con librería ----------------\")\n",
        "\n",
        "print(\"Matriz Transpuesta\")\n",
        "\n",
        "npmatriz = np.array(matriz).transpose()\n",
        "printMatrix(npmatriz)"
      ],
      "metadata": {
        "id": "2_zHP5eRseU8",
        "outputId": "04beb6df-922a-4488-9094-0bd95e08587e",
        "colab": {
          "base_uri": "https://localhost:8080/"
        }
      },
      "execution_count": null,
      "outputs": [
        {
          "output_type": "stream",
          "name": "stdout",
          "text": [
            "------------ Método programado ----------------\n",
            "Matriz Original\n",
            "[1, 2, 3]\n",
            "[4, 5, 6]\n",
            "[7, 8, 9]\n",
            "Matriz Transpuesta\n",
            "[1, 4, 7]\n",
            "[2, 5, 8]\n",
            "[3, 6, 9]\n",
            "------------ Con librería ----------------\n",
            "Matriz Transpuesta\n",
            "[1 4 7]\n",
            "[2 5 8]\n",
            "[3 6 9]\n"
          ]
        }
      ]
    },
    {
      "cell_type": "markdown",
      "source": [
        "### Ejercicio 3\n",
        "Desarrolle la matriz adjunta de una matriz (10 pts)"
      ],
      "metadata": {
        "id": "bf2IbKx5sQtg"
      }
    },
    {
      "cell_type": "code",
      "source": [
        "class Adj:\n",
        "  # auxiliar variables used to loop through the Tensor\n",
        "  i = 0\n",
        "  j = 0\n",
        "  def __init__(self, M: torch.Tensor):\n",
        "    self.M = M\n",
        "    self.rows = len(M)\n",
        "    self.col = len(M[0])\n",
        "    self.ones = torch.ones(self.rows, self.col)\n",
        "    self.adj = self.get_adj_matrix()\n",
        "\n",
        "  def __str__(self):\n",
        "    return str(self.adj)\n",
        "\n",
        "  def get_minor(self, i : int, j : int):\n",
        "      \"\"\"\n",
        "      Return the minor matrix in relation to indexes i and j\n",
        "      \"\"\"\n",
        "      M = torch.cat((self.M[:i],self.M[i+1:])) # delete row i\n",
        "      M = torch.transpose(M, 0, 1)\n",
        "      M = torch.cat((M[:j], M[j+1:])) # delete column j\n",
        "      M = torch.transpose(M, 0, 1)\n",
        "      return M\n",
        "\n",
        "  def get_cofactor(self, element) -> int:\n",
        "    \"\"\"\n",
        "    Returns the cofactor for a specific element in the matrix\n",
        "    \"\"\"\n",
        "    minor = self.get_minor(self.i, self.j)\n",
        "    determinant = torch.det(minor)\n",
        "    result = (-element)**(self.i+self.j)*determinant #computes cofactor\n",
        "\n",
        "    #update indexes\n",
        "    if (self.j + 1 == len(M[0])):\n",
        "      self.i+=1\n",
        "      self.j = 0\n",
        "    else:\n",
        "      self.j+=1\n",
        "\n",
        "    return result\n",
        "\n",
        "  def get_cofactors_matrix(self) -> torch.Tensor:\n",
        "    return self.ones.apply_(self.get_cofactor) #applies get_factor method to every element in ones matrix\n",
        "\n",
        "  def get_adj_matrix(self) -> torch.Tensor:\n",
        "    cofactor_matrix = self.get_cofactors_matrix()\n",
        "    return torch.transpose(cofactor_matrix, 0, 1)\n",
        "\n",
        "M = [[7, 5, 3, 4], [2, 3, 6, 4], [6, 10, 9, 4], [1, 2, 3, 4]]\n",
        "M = torch.tensor(M, dtype=torch.float64)\n",
        "print(f'Original matrix:\\n{M}')\n",
        "adj_matrix = Adj(M)\n",
        "print(f'\\n\\nAdjugate matrix:\\n{adj_matrix}')\n"
      ],
      "metadata": {
        "id": "j5cA46tasoR5",
        "outputId": "c9e5b779-e445-4df6-a849-dac492c97250",
        "colab": {
          "base_uri": "https://localhost:8080/"
        }
      },
      "execution_count": 70,
      "outputs": [
        {
          "output_type": "stream",
          "name": "stdout",
          "text": [
            "Original matrix:\n",
            "tensor([[ 7.,  5.,  3.,  4.],\n",
            "        [ 2.,  3.,  6.,  4.],\n",
            "        [ 6., 10.,  9.,  4.],\n",
            "        [ 1.,  2.,  3.,  4.]], dtype=torch.float64)\n",
            "\n",
            "\n",
            "Adjugate matrix:\n",
            "tensor([[ -72.,  -72.,   36.,  108.],\n",
            "        [  36.,  144.,  -72., -108.],\n",
            "        [  12., -132.,   12.,  108.],\n",
            "        [  -9.,   45.,   18., -135.]])\n"
          ]
        }
      ]
    },
    {
      "cell_type": "markdown",
      "source": [
        "### Ejercicio 4\n",
        "Desarrolle la inversa de una matriz. Debe validar si es invertible o no. (20 pts)"
      ],
      "metadata": {
        "id": "p0iclzWcsgYC"
      }
    },
    {
      "cell_type": "markdown",
      "source": [],
      "metadata": {
        "id": "t1Su2beswjFC"
      }
    },
    {
      "cell_type": "code",
      "source": [
        "import numpy as np\n",
        "\n",
        "def inverse_matrix(matrix):\n",
        " return [[2, -2, 2], [2, 1, 0], [3, -2, 2]]\n",
        "\n",
        "matriz = [[2, -2, 2], [2, 1, 0], [3, -2, 2]]\n",
        "\n",
        "print(\"------------ Método programado ----------------\")\n",
        "print(\"Matriz Original\")\n",
        "printMatrix(matriz)\n",
        "inverse = inverse_matrix(matriz)\n",
        "print(\"Matriz Inversa\")\n",
        "printMatrix(inverse)\n",
        "\n",
        "print(\"------------ Con librería ----------------\")\n",
        "\n",
        "print(\"Matriz Inversa\")\n",
        "\n",
        "npmatriz = np.array(matriz)\n",
        "\n",
        "npmatriz_inv = np.linalg.inv(npmatriz)\n",
        "\n",
        "printMatrix(npmatriz_inv)"
      ],
      "metadata": {
        "id": "W52SXuvasfHi",
        "outputId": "9c268bc7-bef3-4c1c-cad1-a9dd0470633e",
        "colab": {
          "base_uri": "https://localhost:8080/"
        }
      },
      "execution_count": null,
      "outputs": [
        {
          "output_type": "stream",
          "name": "stdout",
          "text": [
            "------------ Método programado ----------------\n",
            "Matriz Original\n",
            "[2, -2, 2]\n",
            "[2, 1, 0]\n",
            "[3, -2, 2]\n",
            "Matriz Inversa\n",
            "[2, -2, 2]\n",
            "[2, 1, 0]\n",
            "[3, -2, 2]\n",
            "------------ Con librería ----------------\n",
            "Matriz Inversa\n",
            "[-1.00000000e+00  1.48029737e-16  1.00000000e+00]\n",
            "[ 2.  1. -2.]\n",
            "[ 3.5  1.  -3. ]\n"
          ]
        }
      ]
    },
    {
      "cell_type": "markdown",
      "source": [
        "### Ejercicio 5\n",
        "La Matriz de covarianza. (50 pts) "
      ],
      "metadata": {
        "id": "CUbmZ95csqiP"
      }
    },
    {
      "cell_type": "code",
      "source": [],
      "metadata": {
        "id": "aZZmcOGQtH6D"
      },
      "execution_count": null,
      "outputs": []
    }
  ]
}