{
  "nbformat": 4,
  "nbformat_minor": 0,
  "metadata": {
    "colab": {
      "provenance": [],
      "authorship_tag": "ABX9TyN//ZccOfXAfTqCkJOuBKaT",
      "include_colab_link": true
    },
    "kernelspec": {
      "name": "python3",
      "display_name": "Python 3"
    },
    "language_info": {
      "name": "python"
    }
  },
  "cells": [
    {
      "cell_type": "markdown",
      "metadata": {
        "id": "view-in-github",
        "colab_type": "text"
      },
      "source": [
        "<a href=\"https://colab.research.google.com/github/LuisPeMoraRod/IA-Laboratories/blob/main/Lab5_MatrixProgrammed.ipynb\" target=\"_parent\"><img src=\"https://colab.research.google.com/assets/colab-badge.svg\" alt=\"Open In Colab\"/></a>"
      ]
    },
    {
      "cell_type": "markdown",
      "source": [
        "### Ejercicio 1\n",
        "Implemente la función *calcularTrazaMatriz*, la cual calcula la traza de una matriz usando únicamente operaciones básicas en Pytorch (multiplicación, multiplicación por elemento, matriz identidad, etc), prescindiendo de estructuras de repetición como el for el while. (10 pts) \n"
      ],
      "metadata": {
        "id": "KRCCKy0FpBPg"
      }
    },
    {
      "cell_type": "code",
      "source": [
        "\n",
        "# import libraries\n",
        "import torch\n"
      ],
      "metadata": {
        "id": "PUcJx40opIh2"
      },
      "execution_count": null,
      "outputs": []
    }
  ]
}