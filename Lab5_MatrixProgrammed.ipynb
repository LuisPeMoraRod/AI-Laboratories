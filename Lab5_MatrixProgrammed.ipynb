{
  "nbformat": 4,
  "nbformat_minor": 0,
  "metadata": {
    "colab": {
      "provenance": [],
      "include_colab_link": true
    },
    "kernelspec": {
      "name": "python3",
      "display_name": "Python 3"
    },
    "language_info": {
      "name": "python"
    }
  },
  "cells": [
    {
      "cell_type": "markdown",
      "metadata": {
        "id": "view-in-github",
        "colab_type": "text"
      },
      "source": [
        "<a href=\"https://colab.research.google.com/github/LuisPeMoraRod/AI-Laboratories/blob/main/Lab5_MatrixProgrammed.ipynb\" target=\"_parent\"><img src=\"https://colab.research.google.com/assets/colab-badge.svg\" alt=\"Open In Colab\"/></a>"
      ]
    },
    {
      "cell_type": "code",
      "source": [
        "\n",
        "# import libraries\n",
        "import torch\n"
      ],
      "metadata": {
        "id": "PUcJx40opIh2"
      },
      "execution_count": null,
      "outputs": []
    },
    {
      "cell_type": "markdown",
      "source": [
        "### Ejercicio 1\n",
        "Implemente la función *calcularTrazaMatriz*, la cual calcula la traza de una matriz usando únicamente operaciones básicas en Pytorch (multiplicación, multiplicación por elemento, matriz identidad, etc), prescindiendo de estructuras de repetición como el for el while. (10 pts) \n"
      ],
      "metadata": {
        "id": "KRCCKy0FpBPg"
      }
    },
    {
      "cell_type": "code",
      "source": [],
      "metadata": {
        "id": "FTPcHiYUtSbZ"
      },
      "execution_count": null,
      "outputs": []
    },
    {
      "cell_type": "markdown",
      "source": [
        "### Ejercicio 2\n",
        "Desarrolle la tranpuesta de una matriz. (10 pts)"
      ],
      "metadata": {
        "id": "Hdg2RtAssFX0"
      }
    },
    {
      "cell_type": "code",
      "source": [
        "import numpy as np\n",
        "\n",
        "\n",
        "# Método que permite obtener la matriz transpuesta.\n",
        "\n",
        "\n",
        "def transpose_matrix(matrix):\n",
        "\n",
        "    # Obtener el numero de filas y columnas de la matriz\n",
        "    num_rows = len(matrix)\n",
        "    num_cols = len(matrix[0])\n",
        "\n",
        "    # Creamos una matriz de ceros invertida\n",
        "    transpose = [[0 for j in range(num_rows)] for i in range(num_cols)]\n",
        "\n",
        "    # iteramos cada elemento de la matriz junto con la creada\n",
        "    for i in range(num_rows):\n",
        "        for j in range(num_cols):\n",
        "            # Agregamos los datos correspondientes a la matriz tranpuesta\n",
        "            transpose[j][i] = matrix[i][j]\n",
        "\n",
        "    return transpose\n",
        "\n",
        "# Método que permite imprimir las matrices.\n",
        "\n",
        "def printMatrix(matrix):\n",
        "  for row in matrix:\n",
        "    print(row)\n",
        "\n",
        "\n",
        "matriz = [[1, 2, 3], [4, 5, 6], [7, 8, 9]]\n",
        "\n",
        "print(\"------------ Método programado ----------------\")\n",
        "print(\"Matriz Original\")\n",
        "printMatrix(matriz)\n",
        "transpose = transpose_matrix(matriz)\n",
        "print(\"Matriz Transpuesta\")\n",
        "printMatrix(transpose)\n",
        "\n",
        "print(\"------------ Con librería ----------------\")\n",
        "\n",
        "print(\"Matriz Transpuesta\")\n",
        "\n",
        "npmatriz = np.array(matriz).transpose()\n",
        "printMatrix(npmatriz)"
      ],
      "metadata": {
        "id": "2_zHP5eRseU8",
        "outputId": "6ec02625-f9c8-4bb5-bc16-8755017c8b03",
        "colab": {
          "base_uri": "https://localhost:8080/"
        }
      },
      "execution_count": 2,
      "outputs": [
        {
          "output_type": "stream",
          "name": "stdout",
          "text": [
            "------------ Método programado ----------------\n",
            "Matriz Original\n",
            "[1, 2, 3]\n",
            "[4, 5, 6]\n",
            "[7, 8, 9]\n",
            "Matriz Transpuesta\n",
            "[1, 4, 7]\n",
            "[2, 5, 8]\n",
            "[3, 6, 9]\n",
            "------------ Con librería ----------------\n",
            "Matriz Transpuesta\n",
            "[1 4 7]\n",
            "[2 5 8]\n",
            "[3 6 9]\n"
          ]
        }
      ]
    },
    {
      "cell_type": "markdown",
      "source": [
        "### Ejercicio 3\n",
        "Desarrolle la matriz adjunta de una matriz (10 pts)"
      ],
      "metadata": {
        "id": "bf2IbKx5sQtg"
      }
    },
    {
      "cell_type": "code",
      "source": [],
      "metadata": {
        "id": "j5cA46tasoR5"
      },
      "execution_count": null,
      "outputs": []
    },
    {
      "cell_type": "markdown",
      "source": [
        "### Ejercicio 4\n",
        "Desarrolle la inversa de una matriz. Debe validar si es invertible o no. (20 pts)"
      ],
      "metadata": {
        "id": "p0iclzWcsgYC"
      }
    },
    {
      "cell_type": "code",
      "source": [
        "import numpy as np\n",
        "\n",
        "def determinant(matriz):\n",
        "    n = len(matriz)\n",
        "    det = 1\n",
        "    for i in range(n):\n",
        "        for j in range(i+1, n):\n",
        "            if matriz[j][i] != 0:\n",
        "                coef = matriz[j][i] / matriz[i][i]\n",
        "                for k in range(i, n):\n",
        "                    matriz[j][k] -= coef * matriz[i][k]\n",
        "        det *= matriz[i][i]\n",
        "    return det\n",
        "\n",
        "\n",
        "\n",
        "\n",
        "def inverse_matrix(matrix):\n",
        " return [[2, -2, 2], [2, 1, 0], [3, -2, 2]]\n",
        "\n",
        "matriz = [[2, -2, 2], [2, 1, 0], [3, -2, 2]]\n",
        "\n",
        "\n",
        "\n",
        "print(\"------------ Método programado ----------------\")\n",
        "print(\"Matriz Original\")\n",
        "printMatrix(matriz)\n",
        "inverse = inverse_matrix(matriz)\n",
        "print(\"Matriz Inversa\")\n",
        "printMatrix(inverse)\n",
        "\n",
        "print(\"------------ Con librería ----------------\")\n",
        "\n",
        "print(\"Matriz Inversa\")\n",
        "\n",
        "npmatriz = np.array(matriz)\n",
        "\n",
        "npmatriz_inv = np.linalg.inv(npmatriz)\n",
        "\n",
        "printMatrix(npmatriz_inv)"
      ],
      "metadata": {
        "id": "W52SXuvasfHi",
        "outputId": "7c0d4d72-ab82-4605-dbfc-dce153d07de4",
        "colab": {
          "base_uri": "https://localhost:8080/"
        }
      },
      "execution_count": 3,
      "outputs": [
        {
          "output_type": "stream",
          "name": "stdout",
          "text": [
            "------------ Método programado ----------------\n",
            " Determinante\n",
            "-2.0\n",
            "------------ Método programado ----------------\n",
            "Matriz Original\n",
            "[2, -2, 2]\n",
            "[0.0, 3.0, -2.0]\n",
            "[0.0, 0.0, -0.33333333333333337]\n",
            "Matriz Inversa\n",
            "[2, -2, 2]\n",
            "[2, 1, 0]\n",
            "[3, -2, 2]\n",
            "------------ Con librería ----------------\n",
            "Matriz Inversa\n",
            "[0.5        0.33333333 1.        ]\n",
            "[ 0.          0.33333333 -2.        ]\n",
            "[-0. -0. -3.]\n"
          ]
        }
      ]
    },
    {
      "cell_type": "markdown",
      "source": [
        "### Ejercicio 5\n",
        "La Matriz de covarianza. (50 pts) "
      ],
      "metadata": {
        "id": "CUbmZ95csqiP"
      }
    },
    {
      "cell_type": "code",
      "source": [],
      "metadata": {
        "id": "aZZmcOGQtH6D"
      },
      "execution_count": null,
      "outputs": []
    }
  ]
}