{
  "nbformat": 4,
  "nbformat_minor": 0,
  "metadata": {
    "colab": {
      "provenance": [],
      "include_colab_link": true
    },
    "kernelspec": {
      "name": "python3",
      "display_name": "Python 3"
    },
    "language_info": {
      "name": "python"
    }
  },
  "cells": [
    {
      "cell_type": "markdown",
      "metadata": {
        "id": "view-in-github",
        "colab_type": "text"
      },
      "source": [
        "<a href=\"https://colab.research.google.com/github/LuisPeMoraRod/AI-Laboratories/blob/main/Lab5_MatrixProgrammed.ipynb\" target=\"_parent\"><img src=\"https://colab.research.google.com/assets/colab-badge.svg\" alt=\"Open In Colab\"/></a>"
      ]
    },
    {
      "cell_type": "code",
      "source": [
        "\n",
        "# import libraries\n",
        "import torch\n"
      ],
      "metadata": {
        "id": "PUcJx40opIh2"
      },
      "execution_count": 48,
      "outputs": []
    },
    {
      "cell_type": "markdown",
      "source": [
        "### Ejercicio 1\n",
        "Implemente la función *calcularTrazaMatriz*, la cual calcula la traza de una matriz usando únicamente operaciones básicas en Pytorch (multiplicación, multiplicación por elemento, matriz identidad, etc), prescindiendo de estructuras de repetición como el for el while. (10 pts) \n"
      ],
      "metadata": {
        "id": "KRCCKy0FpBPg"
      }
    },
    {
      "cell_type": "code",
      "source": [],
      "metadata": {
        "id": "FTPcHiYUtSbZ"
      },
      "execution_count": null,
      "outputs": []
    },
    {
      "cell_type": "markdown",
      "source": [
        "### Ejercicio 2\n",
        "Desarrolle la tranpuesta de una matriz. (10 pts)"
      ],
      "metadata": {
        "id": "Hdg2RtAssFX0"
      }
    },
    {
      "cell_type": "code",
      "source": [
        "import torch\n",
        "\n",
        "def transpuesta(mat):\n",
        "\n",
        "    # Utilizamos la función view() para intercambiar las dimensiones del tensor\n",
        "    transpuesta_mat = mat.permute(1, 0)\n",
        "    \n",
        "    return transpuesta_mat\n",
        "\n",
        "\n",
        "# Creamos una matriz de ejemplo\n",
        "matriz = torch.tensor([[1, 2, 3], [4, 5, 6],[7, 8, 9]])\n",
        "\n",
        "\n",
        "transpuesta_mat = transpuesta(matriz)\n",
        "\n",
        "\n",
        "print(\"------------ Resultados ----------------\")\n",
        "print(\"Matriz Original\")\n",
        "print(matriz)\n",
        "print(\"Matriz Transpuesta\")\n",
        "print(transpuesta_mat)\n",
        "\n",
        "\n",
        "\n"
      ],
      "metadata": {
        "id": "2_zHP5eRseU8",
        "outputId": "24ed0748-a638-4c4b-bf49-f212b5044bff",
        "colab": {
          "base_uri": "https://localhost:8080/"
        }
      },
      "execution_count": 49,
      "outputs": [
        {
          "output_type": "stream",
          "name": "stdout",
          "text": [
            "------------ Resultados ----------------\n",
            "Matriz Original\n",
            "tensor([[1, 2, 3],\n",
            "        [4, 5, 6],\n",
            "        [7, 8, 9]])\n",
            "Matriz Transpuesta\n",
            "tensor([[1, 4, 7],\n",
            "        [2, 5, 8],\n",
            "        [3, 6, 9]])\n"
          ]
        }
      ]
    },
    {
      "cell_type": "markdown",
      "source": [
        "### Ejercicio 3\n",
        "Desarrolle la matriz adjunta de una matriz (10 pts)"
      ],
      "metadata": {
        "id": "bf2IbKx5sQtg"
      }
    },
    {
      "cell_type": "code",
      "source": [
        "class Adj:\n",
        "  # auxiliar variables used to loop through the Tensor\n",
        "  i = 0\n",
        "  j = 0\n",
        "  def __init__(self, M: torch.Tensor):\n",
        "    self.M = M\n",
        "    self.rows = len(M)\n",
        "    self.col = len(M[0])\n",
        "    self.ones = torch.ones(self.rows, self.col)\n",
        "    self.adj = self.get_adj_matrix()\n",
        "\n",
        "  def __str__(self):\n",
        "    return str(self.adj)\n",
        "\n",
        "  def get_minor(self, i : int, j : int):\n",
        "      \"\"\"\n",
        "      Return the minor matrix in relation to indexes i and j\n",
        "      \"\"\"\n",
        "      M = torch.cat((self.M[:i],self.M[i+1:])) # delete row i\n",
        "      M = torch.transpose(M, 0, 1)\n",
        "      M = torch.cat((M[:j], M[j+1:])) # delete column j\n",
        "      M = torch.transpose(M, 0, 1)\n",
        "      return M\n",
        "\n",
        "  def get_cofactor(self, element) -> int:\n",
        "    \"\"\"\n",
        "    Returns the cofactor for a specific element in the matrix\n",
        "    \"\"\"\n",
        "    minor = self.get_minor(self.i, self.j)\n",
        "    determinant = torch.det(minor)\n",
        "    result = (-element)**(self.i+self.j)*determinant #computes cofactor\n",
        "\n",
        "    #update indexes\n",
        "    if (self.j + 1 == len(self.M[0])):\n",
        "      self.i+=1\n",
        "      self.j = 0\n",
        "    else:\n",
        "      self.j+=1\n",
        "\n",
        "    return result\n",
        "\n",
        "  def get_cofactors_matrix(self) -> torch.Tensor:\n",
        "    return self.ones.apply_(self.get_cofactor) #applies get_factor method to every element in ones matrix\n",
        "\n",
        "  def get_adj_matrix(self) -> torch.Tensor:\n",
        "    cofactor_matrix = self.get_cofactors_matrix()\n",
        "    return torch.transpose(cofactor_matrix, 0, 1)\n",
        "\n",
        "M = [[7, 5, 3, 4], [2, 3, 6, 4], [6, 10, 9, 4], [1, 2, 3, 4]]\n",
        "M = torch.tensor(M, dtype=torch.float64)\n",
        "print(f'Original matrix:\\n{M}')\n",
        "adj_matrix = Adj(M)\n",
        "print(f'\\n\\nAdjugate matrix:\\n{adj_matrix}')\n"
      ],
      "metadata": {
        "id": "j5cA46tasoR5",
        "outputId": "038e3228-6490-4ca8-d732-2845a5e0535c",
        "colab": {
          "base_uri": "https://localhost:8080/"
        }
      },
      "execution_count": 50,
      "outputs": [
        {
          "output_type": "stream",
          "name": "stdout",
          "text": [
            "Original matrix:\n",
            "tensor([[ 7.,  5.,  3.,  4.],\n",
            "        [ 2.,  3.,  6.,  4.],\n",
            "        [ 6., 10.,  9.,  4.],\n",
            "        [ 1.,  2.,  3.,  4.]], dtype=torch.float64)\n",
            "\n",
            "\n",
            "Adjugate matrix:\n",
            "tensor([[ -72.,  -72.,   36.,  108.],\n",
            "        [  36.,  144.,  -72., -108.],\n",
            "        [  12., -132.,   12.,  108.],\n",
            "        [  -9.,   45.,   18., -135.]])\n"
          ]
        }
      ]
    },
    {
      "cell_type": "markdown",
      "source": [
        "### Ejercicio 4\n",
        "Desarrolle la inversa de una matriz. Debe validar si es invertible o no. (20 pts)"
      ],
      "metadata": {
        "id": "p0iclzWcsgYC"
      }
    },
    {
      "cell_type": "markdown",
      "source": [],
      "metadata": {
        "id": "t1Su2beswjFC"
      }
    },
    {
      "cell_type": "code",
      "source": [
        "\n",
        "# Metodo para determinar la inversa de una matriz\n",
        "\n",
        "def matriz_inversa(matrix):\n",
        "  \n",
        "  # Cálculo del determinante\n",
        "  determinante = torch.det(matrix)\n",
        "\n",
        "  # Verificación de si tiene inversa\n",
        "  if  determinante == 0:\n",
        "    return \"La matriz no tiene inversa\"\n",
        "\n",
        "  # Cálculo de la inversa usando la fórmula general\n",
        "  m_transpuesta = transpuesta(matrix)\n",
        "  m_adj = Adj(m_transpuesta)\n",
        "  m_inversa = m_adj.adj/determinante\n",
        "\n",
        "  return m_inversa\n",
        "\n",
        "matriz = torch.tensor([[2, -2, 2], [2, 1, 0],[3, -2, 2]])\n",
        "matriz_tensor = torch.tensor(matriz, dtype=torch.float64)\n",
        "a = Adj(matriz_tensor)\n",
        "mat_inversa = matriz_inversa(matriz_tensor)\n",
        "print(\"------------ Método programado ----------------\")\n",
        "print(\"Matriz Original\")\n",
        "print(matriz)\n",
        "print(\"Matriz Inversa\")\n",
        "print(mat_inversa)\n"
      ],
      "metadata": {
        "id": "W52SXuvasfHi",
        "outputId": "fa233d1c-3f07-4d5c-b330-4382c0e0e98b",
        "colab": {
          "base_uri": "https://localhost:8080/"
        }
      },
      "execution_count": 54,
      "outputs": [
        {
          "output_type": "stream",
          "name": "stdout",
          "text": [
            "------------ Método programado ----------------\n",
            "Matriz Original\n",
            "tensor([[ 2, -2,  2],\n",
            "        [ 2,  1,  0],\n",
            "        [ 3, -2,  2]])\n",
            "Matriz Inversa\n",
            "tensor([[-1.0000,  2.0000,  3.5000],\n",
            "        [-0.0000,  1.0000,  1.0000],\n",
            "        [ 1.0000, -2.0000, -3.0000]])\n"
          ]
        },
        {
          "output_type": "stream",
          "name": "stderr",
          "text": [
            "<ipython-input-54-485ffe889663>:16: UserWarning: To copy construct from a tensor, it is recommended to use sourceTensor.clone().detach() or sourceTensor.clone().detach().requires_grad_(True), rather than torch.tensor(sourceTensor).\n",
            "  matriz_tensor = torch.tensor(matriz, dtype=torch.float64)\n"
          ]
        }
      ]
    },
    {
      "cell_type": "markdown",
      "source": [
        "### Ejercicio 5\n",
        "La Matriz de covarianza. (50 pts) "
      ],
      "metadata": {
        "id": "CUbmZ95csqiP"
      }
    },
    {
      "cell_type": "code",
      "source": [],
      "metadata": {
        "id": "aZZmcOGQtH6D"
      },
      "execution_count": null,
      "outputs": []
    }
  ]
}