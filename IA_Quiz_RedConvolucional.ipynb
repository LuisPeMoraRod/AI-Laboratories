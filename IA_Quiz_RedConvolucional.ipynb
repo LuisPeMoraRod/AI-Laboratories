{
  "nbformat": 4,
  "nbformat_minor": 0,
  "metadata": {
    "colab": {
      "provenance": [],
      "authorship_tag": "ABX9TyO5xsmnuE8csfFodjiBpni4",
      "include_colab_link": true
    },
    "kernelspec": {
      "name": "python3",
      "display_name": "Python 3"
    },
    "language_info": {
      "name": "python"
    }
  },
  "cells": [
    {
      "cell_type": "markdown",
      "metadata": {
        "id": "view-in-github",
        "colab_type": "text"
      },
      "source": [
        "<a href=\"https://colab.research.google.com/github/LuisPeMoraRod/AI-Laboratories/blob/R_Convolucional/IA_Quiz_RedConvolucional.ipynb\" target=\"_parent\"><img src=\"https://colab.research.google.com/assets/colab-badge.svg\" alt=\"Open In Colab\"/></a>"
      ]
    },
    {
      "cell_type": "markdown",
      "source": [
        "# Quiz Red Convulucional\n",
        "\n",
        "*   Mauricio Calderon\n",
        "*   Luis Pedro Morales\n",
        "\n"
      ],
      "metadata": {
        "id": "fy0-K6jRTIK7"
      }
    },
    {
      "cell_type": "markdown",
      "source": [
        "1. Investigue cómo es el proceso de visualización de los ojos humanos y haga analogías respecto a una red neuronal convolucional.\n"
      ],
      "metadata": {
        "id": "h6FukRGwTREN"
      }
    },
    {
      "cell_type": "code",
      "source": [],
      "metadata": {
        "id": "bIiKUDLLT7Fk"
      },
      "execution_count": null,
      "outputs": []
    },
    {
      "cell_type": "markdown",
      "source": [
        "2. Investigue cuál es la fórmula de la convolución y muestre un ejemplo paso a paso del cálculo."
      ],
      "metadata": {
        "id": "nCSc7dQNTWBn"
      }
    },
    {
      "cell_type": "markdown",
      "source": [
        "3. Programe la convolución desde cero (no use librerías) para una matriz de cualquier tamaño inicializada con valores aleatorios entre 0 y 255 con los siguientes filtros también aleatorios entre -1, 0, 1.\n",
        "\n",
        "\n",
        "*   Filtro de 2x2 con stride = 1\n",
        "*   Filtro de 2x2 con stride = 2\n",
        "*   Filtro de 3x3 con stride = 1\n",
        "*   Filtro de 3x3 con stride = 2\n",
        "\n",
        "\n",
        "\n"
      ],
      "metadata": {
        "id": "Qj7zXScmTYcI"
      }
    },
    {
      "cell_type": "code",
      "execution_count": null,
      "metadata": {
        "id": "VMLLCErwS1MO"
      },
      "outputs": [],
      "source": []
    },
    {
      "cell_type": "markdown",
      "source": [
        "4. A las salidas anteriores prográmeles el max pooling desde cero (no use librerías) y despliegue los resultados. "
      ],
      "metadata": {
        "id": "hFzQliuaTkru"
      }
    },
    {
      "cell_type": "markdown",
      "source": [
        "5. Seleccione un dataset grande con imágenes de su interés y programe la clasificación (binaria o más) utilizando una librería para la red neuronal convolucional. Utilice la carga de datos desde su Google Drive y evidencie con capturas de pantalla."
      ],
      "metadata": {
        "id": "c1lt0xFSTp-8"
      }
    }
  ]
}