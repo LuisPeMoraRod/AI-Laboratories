{
  "nbformat": 4,
  "nbformat_minor": 0,
  "metadata": {
    "colab": {
      "provenance": [],
      "toc_visible": true,
      "include_colab_link": true
    },
    "kernelspec": {
      "name": "python3",
      "display_name": "Python 3"
    },
    "language_info": {
      "name": "python"
    }
  },
  "cells": [
    {
      "cell_type": "markdown",
      "metadata": {
        "id": "view-in-github",
        "colab_type": "text"
      },
      "source": [
        "<a href=\"https://colab.research.google.com/github/LuisPeMoraRod/AI-Laboratories/blob/main/IA_Quiz_RedConvolucional.ipynb\" target=\"_parent\"><img src=\"https://colab.research.google.com/assets/colab-badge.svg\" alt=\"Open In Colab\"/></a>"
      ]
    },
    {
      "cell_type": "markdown",
      "source": [
        "# Quiz Red Convulucional\n",
        "\n",
        "*   Mauricio Calderon\n",
        "*   Luis Pedro Morales\n",
        "\n"
      ],
      "metadata": {
        "id": "fy0-K6jRTIK7"
      }
    },
    {
      "cell_type": "markdown",
      "source": [
        "1. Investigue cómo es el proceso de visualización de los ojos humanos y haga analogías respecto a una red neuronal convolucional.\n",
        "\n",
        "El proceso de visualización de los ojos humanos es bastante complejo, pero podemos separarlo en ciertas etapas de manera que podemos comparar dichas etapas y una red neuronal convolucional. Algunos de los aspectos que comparten o bien son bastantes similares entre si, son los siguientes.\n",
        "\n",
        "\n",
        "*   Captación de información: Al igual que el ojo humano captura información visual del entorno, una red neuronal convolucional toma imágenes como entrada y las procesa capa por capa para extraer características relevantes.\n",
        "\n",
        "* Extracción de características: En el ojo humano, la retina y las células fotorreceptoras realizan una primera etapa de procesamiento para convertir la luz en señales eléctricas. En una una red neuronal convolucional, las capas iniciales también están diseñadas para extraer características básicas, como bordes, texturas y colores.\n",
        "\n",
        "* Jerarquía de características: Tanto en el ojo humano como en una una red neuronal convolucional, las características extraídas se organizan en una jerarquía. En el ojo, las células de la retina transmiten señales a través de las células de la retina y luego al nervio óptico. En una una red neuronal convolucional, las características se agrupan en capas más profundas, donde las capas posteriores combinan características más abstractas y complejas.\n",
        "\n",
        "* Procesamiento localizado: En el ojo humano, diferentes partes de la retina son sensibles a diferentes regiones del campo visual. De manera similar, en una una red neuronal convolucional, las capas convolucionales utilizan filtros locales para detectar características en regiones específicas de la imagen.\n",
        "\n",
        "* Transmisión de información: Al igual que las señales eléctricas se transmiten desde el ojo al cerebro, una una red neuronal convolucional transmite información a través de las capas hacia las capas finales, donde se toman decisiones o se realizan predicciones.\n",
        "\n",
        "\n"
      ],
      "metadata": {
        "id": "h6FukRGwTREN"
      }
    },
    {
      "cell_type": "markdown",
      "source": [
        "2. Investigue cuál es la fórmula de la convolución y muestre un ejemplo paso a paso del cálculo.\n",
        "\n",
        "R/\n",
        "\n",
        "La fórmula de la convolución en el contexto de una red neuronal convolucional  se puede expresar de la siguiente manera:\n",
        "\n",
        "$y\\left(i,j\\right)=\\sum _m​\\:\\sum _n\\:x\\left(i−m,j−n\\right)⋅w\\left(m,n\\right)+b$\n",
        "\n",
        "Donde:\n",
        "\n",
        "\n",
        "*  $y\\left(i,j\\right)$ es el valor resultante en la posición $\\left(i,j\\right)$ de la capa de salida.\n",
        "*  $x\\left(i−m,j−n\\right)$ es el valor en la posición $\\left(i−m,j−n\\right)$ de la capa de entrada.\n",
        "*   $w(m,n)$ es el peso asociado a la conexión entre la entrada y la capa de salida.\n",
        "*   $b$ es el sesgo (bias) que se agrega al resultado final.\n",
        "\n",
        "\n",
        "\n",
        "A continuación, se muestra un ejemplo paso a paso para ilustrar cómo se realiza el cálculo de la convolución.\n",
        "\n",
        "\n",
        "Supongamos que tenemos una matriz de entrada de tamaño 3x3 y un filtro de convolución de tamaño 2x2:\n",
        "\n",
        "\n",
        "Matriz de entrada: $\\begin{pmatrix}1&2&3\\\\ 4&5&6\\\\ 7&8&9\\end{pmatrix}$\n",
        "\n",
        "Matriz filtro: $\\begin{pmatrix}2&0\\\\ 1&2\\end{pmatrix}$\n",
        "\n",
        "Como primer paso vamos a colocar el filtro en la esquina superior izquierda de la matriz de entrada (matriz principal), de manera que luego padamos realizar las multiplicaciones y sumando los resultados de la siguiente manera.\n",
        "\n",
        "Esquina superior izquierda de la matriz principal\n",
        "\n",
        "$\\begin{pmatrix}1&2\\\\ 4&5\\end{pmatrix}$\n",
        "\n",
        "Matriz filtro.\n",
        "\n",
        "$\\begin{pmatrix}2&0\\\\ 1&2\\end{pmatrix}$\n",
        "\n",
        "Realizando las operaciones \n",
        "\n",
        "$\\left(1\\cdot 2\\right)\\:+\\:\\left(2\\cdot 0\\right)\\:+\\left(4\\cdot 1\\right)\\:+\\:\\left(5\\cdot 2\\right)\\:=\\:14$\n",
        "\n",
        "En este caso el resultado es 14, esto representa el resultado de la convolución para la posición superior izquierda de la capa de salida.\n",
        "\n",
        "Lo que tenemos que hacer con las demás, es ir desplazando columna por columna el filtro y luego vamos también bajando fila por fila, de manera que vayamos obteniendo todos los resultados de la matriz de convolución, esta matriz es la que se conoce como la capa de salida.\n",
        "\n",
        "En nuestro ejemplo la capa de salida completa sería\n",
        "\n",
        "$\\begin{pmatrix}14&20\\\\ 20&25\\end{pmatrix}$\n",
        "\n",
        "Como podemos ver esta matriz de capa de salida tiene las mismas dimensiones que la matriz de filtro, esto se debe a que las dimensiones de la capa de salida van a depender del tamaño de la matriz del filtro, asi como de aspectos externos como el stride y padding que en caso de tener alguno de estos dos, afectará también directamente en la matriz resultante."
      ],
      "metadata": {
        "id": "nCSc7dQNTWBn"
      }
    },
    {
      "cell_type": "markdown",
      "source": [
        "3. Programe la convolución desde cero (no use librerías) para una matriz de cualquier tamaño inicializada con valores aleatorios entre 0 y 255 con los siguientes filtros también aleatorios entre -1, 0, 1.\n",
        "\n",
        "\n",
        "*   Filtro de 2x2 con stride = 1\n",
        "*   Filtro de 2x2 con stride = 2\n",
        "*   Filtro de 3x3 con stride = 1\n",
        "*   Filtro de 3x3 con stride = 2\n",
        "\n",
        "\n",
        "\n"
      ],
      "metadata": {
        "id": "Qj7zXScmTYcI"
      }
    },
    {
      "cell_type": "code",
      "execution_count": 3,
      "metadata": {
        "colab": {
          "base_uri": "https://localhost:8080/"
        },
        "id": "VMLLCErwS1MO",
        "outputId": "6d01a7bf-2e55-45b8-fb3a-71d5b1f2de85"
      },
      "outputs": [
        {
          "output_type": "stream",
          "name": "stdout",
          "text": [
            "Resultado de la convolución con filtro 2x2 y stride 1:\n",
            "[-313, -109, -100, -252, -112, 91, -3]\n",
            "[128, 45, 30, 195, 9, -99, 20]\n",
            "[73, 106, 197, 52, 210, 59, -217]\n",
            "[98, -104, -296, -103, 42, 13, 120]\n",
            "[-234, 29, 271, 72, -37, 86, 100]\n",
            "[-118, -13, -51, -81, -146, 32, -43]\n",
            "[266, 26, -221, -74, 19, -199, -137]\n",
            "\n",
            "Resultado de la convolución con filtro 2x2 y stride 2:\n",
            "[-185, -291, -64, -282]\n",
            "[-297, -200, 58, -247]\n",
            "[-158, -79, -40, -235]\n",
            "[-61, -103, -91, 63]\n",
            "\n",
            "Resultado de la convolución con filtro 3x3 y stride 1:\n",
            "[78, 710, 3, 400, 542, 244]\n",
            "[574, -29, 424, 252, 346, 241]\n",
            "[-174, 332, -188, 89, 242, 550]\n",
            "[338, 97, 289, 276, 140, 605]\n",
            "[287, 128, 35, -85, 332, 72]\n",
            "[213, 140, 99, 200, 59, 460]\n",
            "\n",
            "Resultado de la convolución con filtro 3x3 y stride 2:\n",
            "[697, 215, 871]\n",
            "[323, 247, 417]\n",
            "[753, 151, 448]\n"
          ]
        }
      ],
      "source": [
        "import random\n",
        "\n",
        "def convolution(input_matrix, filter_matrix, stride):\n",
        "    input_rows, input_cols = len(input_matrix), len(input_matrix[0])\n",
        "    filter_rows, filter_cols = len(filter_matrix), len(filter_matrix[0])\n",
        "    \n",
        "    # Calcular el tamaño de la matriz de salida\n",
        "    output_rows = (input_rows - filter_rows) // stride + 1\n",
        "    output_cols = (input_cols - filter_cols) // stride + 1\n",
        "    \n",
        "    # Inicializar la matriz de salida con ceros\n",
        "    output_matrix = [[0] * output_cols for _ in range(output_rows)]\n",
        "    \n",
        "    # Recorrer la matriz de entrada y realizar la convolución\n",
        "    for i in range(output_rows):\n",
        "        for j in range(output_cols):\n",
        "            # Calcular los índices de inicio y fin para la convolución\n",
        "            start_i, start_j = i * stride, j * stride\n",
        "            end_i, end_j = start_i + filter_rows, start_j + filter_cols\n",
        "            \n",
        "            # Realizar la convolución multiplicando los elementos y sumándolos\n",
        "            conv_sum = 0\n",
        "            for m in range(start_i, end_i):\n",
        "                for n in range(start_j, end_j):\n",
        "                    conv_sum += input_matrix[m][n] * filter_matrix[m-start_i][n-start_j]\n",
        "            \n",
        "            # Asignar el resultado de la convolución a la posición correspondiente en la matriz de salida\n",
        "            output_matrix[i][j] = conv_sum\n",
        "    \n",
        "    return output_matrix\n",
        "\n",
        "def start_convolution(dim):\n",
        "\n",
        "  # Generar una matriz de entrada aleatoria de tamaño dimxdim con valores entre 0 y 255\n",
        "  input_matrix = [[random.randint(0, 255) for _ in range(dim)] for _ in range(dim)]\n",
        "\n",
        "  # Generar filtros aleatorios de los tamaños y valores especificados\n",
        "  filter_2x2_stride_1 = [[random.choice([-1, 0, 1]) for _ in range(2)] for _ in range(2)]\n",
        "  filter_2x2_stride_2 = [[random.choice([-1, 0, 1]) for _ in range(2)] for _ in range(2)]\n",
        "  filter_3x3_stride_1 = [[random.choice([-1, 0, 1]) for _ in range(3)] for _ in range(3)]\n",
        "  filter_3x3_stride_2 = [[random.choice([-1, 0, 1]) for _ in range(3)] for _ in range(3)]\n",
        "\n",
        "  # Realizar las convoluciones utilizando los filtros y strides especificados\n",
        "  result_2x2_stride_1 = convolution(input_matrix, filter_2x2_stride_1, stride=1)\n",
        "  result_2x2_stride_2 = convolution(input_matrix, filter_2x2_stride_2, stride=2)\n",
        "  result_3x3_stride_1 = convolution(input_matrix, filter_3x3_stride_1, stride=1)\n",
        "  result_3x3_stride_2 = convolution(input_matrix, filter_3x3_stride_2, stride=2)\n",
        "\n",
        "  # Imprimir los resultados\n",
        "  print(\"Resultado de la convolución con filtro 2x2 y stride 1:\")\n",
        "  for row in result_2x2_stride_1:\n",
        "      print(row)\n",
        "\n",
        "  print(\"\\nResultado de la convolución con filtro 2x2 y stride 2:\")\n",
        "  for row in result_2x2_stride_2:\n",
        "      print(row)\n",
        "\n",
        "  print(\"\\nResultado de la convolución con filtro 3x3 y stride 1:\")\n",
        "  for row in result_3x3_stride_1:\n",
        "      print(row)\n",
        "\n",
        "  print(\"\\nResultado de la convolución con filtro 3x3 y stride 2:\")\n",
        "  for row in result_3x3_stride_2:\n",
        "      print(row)\n",
        "  return (result_2x2_stride_1, result_2x2_stride_2, result_3x3_stride_1, result_3x3_stride_2)\n",
        "\n",
        "\n",
        "#Inicializando el la convolución\n",
        "\n",
        "results = start_convolution(8)"
      ]
    },
    {
      "cell_type": "markdown",
      "source": [
        "4. A las salidas anteriores prográmeles el max pooling desde cero (no use librerías) y despliegue los resultados. "
      ],
      "metadata": {
        "id": "hFzQliuaTkru"
      }
    },
    {
      "cell_type": "code",
      "execution_count": 5,
      "metadata": {
        "colab": {
          "base_uri": "https://localhost:8080/"
        },
        "outputId": "fd757af3-ca9d-48a0-b692-dc784858cfb2",
        "id": "2mLjlJ0WHT-H"
      },
      "outputs": [
        {
          "output_type": "stream",
          "name": "stdout",
          "text": [
            "\n",
            "Max pooling para el resultado de la convolución con filtro 2x2 y stride 2:\n",
            "[-185, 58]\n",
            "[-61, 63]\n",
            "\n",
            "Max pooling para el resultado de la convolución con filtro 3x3 y stride 1:\n",
            "[710, 424, 542]\n",
            "[338, 289, 605]\n",
            "[287, 200, 460]\n"
          ]
        }
      ],
      "source": [
        "def max_pooling(mat):\n",
        "    rows = len(mat)\n",
        "    cols = len(mat)\n",
        "    i, j = 0, 0\n",
        "    new_mat = []\n",
        "\n",
        "    while i < rows:\n",
        "        new_row = []\n",
        "        j = 0\n",
        "        while j < cols:\n",
        "            segment = []\n",
        "            segment.append(mat[i][j])\n",
        "            segment.append(mat[i][j+1])\n",
        "            segment.append(mat[i+1][j])\n",
        "            segment.append(mat[i+1][j+1])\n",
        "            new_row.append(max(segment))\n",
        "            j += 2\n",
        "        print(new_row)\n",
        "        new_mat.append(new_row)\n",
        "        i += 2\n",
        "    return new_mat\n",
        "\n",
        "result_2x2_stride_2 = results[1]\n",
        "result_3x3_stride_1 = results[2]\n",
        "\n",
        "print(\"\\nMax pooling para el resultado de la convolución con filtro 2x2 y stride 2:\")\n",
        "max22_2 = max_pooling(result_2x2_stride_2)\n",
        "\n",
        "print(\"\\nMax pooling para el resultado de la convolución con filtro 3x3 y stride 1:\")\n",
        "max33_1 = max_pooling(result_3x3_stride_1)"
      ]
    }
  ]
}