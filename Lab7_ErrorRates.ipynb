{
  "nbformat": 4,
  "nbformat_minor": 0,
  "metadata": {
    "colab": {
      "provenance": [],
      "authorship_tag": "ABX9TyP9RWu4j1oZNzmT0d7R17sM",
      "include_colab_link": true
    },
    "kernelspec": {
      "name": "python3",
      "display_name": "Python 3"
    },
    "language_info": {
      "name": "python"
    }
  },
  "cells": [
    {
      "cell_type": "markdown",
      "metadata": {
        "id": "view-in-github",
        "colab_type": "text"
      },
      "source": [
        "<a href=\"https://colab.research.google.com/github/LuisPeMoraRod/AI-Laboratories/blob/main/Lab7_ErrorRates.ipynb\" target=\"_parent\"><img src=\"https://colab.research.google.com/assets/colab-badge.svg\" alt=\"Open In Colab\"/></a>"
      ]
    },
    {
      "cell_type": "markdown",
      "source": [
        "### Ejercicio 1.\n",
        "Genere un set de datos con comportamiento lineal (puede utilizar una librería para generar este set) de 100 mil datos, calcule la regresión lineal. Puede reutilizar los datos del lab de Regresión Lineal (5 pts)"
      ],
      "metadata": {
        "id": "Gv7gIwPmG_OI"
      }
    },
    {
      "cell_type": "code",
      "execution_count": 1,
      "metadata": {
        "id": "-Bk9e7-3Go0C"
      },
      "outputs": [],
      "source": [
        "# import libraries\n",
        "from sklearn.datasets import make_regression\n",
        "import matplotlib.pyplot as plt #for plotting\n",
        "import torch\n",
        "import numpy as np"
      ]
    },
    {
      "cell_type": "code",
      "source": [
        "N_SAMPLES = 100000 #number of samples\n",
        "N_FEATURES = 1 #number of features\n",
        "N_INFORMATIVE = 1 #number of useful features\n",
        "NOISE = 10 #bias and standard deviation of the guassian noise\n",
        "x, y, coef = make_regression(n_samples=N_SAMPLES,\n",
        "                            n_features=N_FEATURES,\n",
        "                            n_informative=N_INFORMATIVE, \n",
        "                            noise=NOISE,\n",
        "                            coef=True, # return the coefficients of the underlying linear model\n",
        "                            random_state=0) #set for same data points for each run\n",
        "\n",
        "# Scale feature x (students' height) to range [1.20, 1.40]\n",
        "x = np.interp(x, (x.min(), x.max()), (1.20, 1.40))\n",
        "x_t = np.transpose(x)[0]\n",
        "x_data = torch.tensor(x_t, dtype=torch.float64)\n",
        "\n",
        "# Scale target y (students' weight) to range [25,40] \n",
        "y = np.interp(y, (y.min(), y.max()), (25, 40))\n",
        "y_data = torch.tensor(y, dtype=torch.float64)\n",
        "\n",
        "print(x_data)\n",
        "print(y_data)"
      ],
      "metadata": {
        "colab": {
          "base_uri": "https://localhost:8080/"
        },
        "id": "gSrWYHY6IBI9",
        "outputId": "7b2f5f2a-15f9-4c43-f669-64ec180f988d"
      },
      "execution_count": 2,
      "outputs": [
        {
          "output_type": "stream",
          "name": "stdout",
          "text": [
            "tensor([1.3287, 1.2918, 1.3016,  ..., 1.3029, 1.3380, 1.3173],\n",
            "       dtype=torch.float64)\n",
            "tensor([34.1849, 31.4623, 32.6545,  ..., 32.5608, 34.9858, 33.6121],\n",
            "       dtype=torch.float64)\n"
          ]
        }
      ]
    },
    {
      "cell_type": "markdown",
      "source": [
        "### Ejercicio 2\n",
        "Calcule diferentes índices de error sobre la regresión. Los algoritmos deben ser programados por usted. No se permite que utilice métodos ya programados de librerías. "
      ],
      "metadata": {
        "id": "HjIt-tN5HmEY"
      }
    },
    {
      "cell_type": "code",
      "source": [
        "def linearRegression (array_X,array_Y):\n",
        "  #x and y average\n",
        "  x_avg = torch.mean(array_X)\n",
        "  y_avg = torch.mean(array_Y)\n",
        "\n",
        "  #data needed to calculate b and a\n",
        "  xi_xm = torch.add(array_X, -(x_avg))\n",
        "  yi_ym = torch.add(array_Y, -(y_avg))\n",
        "\n",
        "  num = torch.mul(xi_xm,yi_ym)\n",
        "  den = torch.pow(xi_xm,2)\n",
        "\n",
        "  num_sum = torch.sum(num)\n",
        "  den_sum = torch.sum(den)\n",
        "\n",
        "  #Linear regression y = a + bx\n",
        "  #b calculation\n",
        "  b = num_sum / den_sum\n",
        "  #a calculation\n",
        "  a = y_avg - (b*x_avg)\n",
        "  \n",
        "  return (a,b)\n",
        "\n",
        "a, b = linearRegression(x_data, y_data)\n",
        "print(f'a = {a}')\n",
        "print(f'b = {b}')"
      ],
      "metadata": {
        "colab": {
          "base_uri": "https://localhost:8080/"
        },
        "id": "v6bDirvRIfgv",
        "outputId": "91fcb200-5be2-4d85-f5ac-23d6c5f4ce6a"
      },
      "execution_count": 3,
      "outputs": [
        {
          "output_type": "stream",
          "name": "stdout",
          "text": [
            "a = -65.28086377653793\n",
            "b = 75.11420294360995\n"
          ]
        }
      ]
    },
    {
      "cell_type": "markdown",
      "source": [
        "#### a) Calcule el Error Medio Absoluto (MAE). (20 pts)  "
      ],
      "metadata": {
        "id": "zenxoPxeIoRw"
      }
    },
    {
      "cell_type": "code",
      "source": [
        "# MAE method"
      ],
      "metadata": {
        "id": "iQEEF7q1I7MK"
      },
      "execution_count": null,
      "outputs": []
    },
    {
      "cell_type": "markdown",
      "source": [
        "#### b) Calcule el Error Medio Cuadrático (MSE). (20 pts) "
      ],
      "metadata": {
        "id": "WCDallk6I_V7"
      }
    },
    {
      "cell_type": "code",
      "source": [
        "# MSE method"
      ],
      "metadata": {
        "id": "VZFA4X1GJFFk"
      },
      "execution_count": null,
      "outputs": []
    },
    {
      "cell_type": "markdown",
      "source": [
        "#### c) Calcule el Root Mean Squared Error (RMSE). (20 pts) "
      ],
      "metadata": {
        "id": "kt2u3ZeoJHYT"
      }
    },
    {
      "cell_type": "code",
      "source": [
        "# RMSE method"
      ],
      "metadata": {
        "id": "HrFQOQLLJNBD"
      },
      "execution_count": null,
      "outputs": []
    }
  ]
}